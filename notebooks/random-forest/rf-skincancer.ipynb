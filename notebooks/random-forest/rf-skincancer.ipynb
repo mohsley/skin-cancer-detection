{
 "cells": [
  {
   "cell_type": "code",
   "execution_count": null,
   "id": "8d73078e-482a-459d-bb53-a561da75e55b",
   "metadata": {},
   "outputs": [
    {
     "name": "stderr",
     "output_type": "stream",
     "text": [
      "C:\\Users\\moh55\\AppData\\Local\\Temp\\ipykernel_22876\\3788653158.py:9: DtypeWarning: Columns (51,52) have mixed types. Specify dtype option on import or set low_memory=False.\n",
      "  df = pd.read_csv(\"../../data/data/train-metadata.csv\")\n"
     ]
    }
   ],
   "source": [
    "import pandas as pd\n",
    "from sklearn.model_selection import train_test_split\n",
    "from sklearn.ensemble import RandomForestClassifier\n",
    "from sklearn.preprocessing import LabelEncoder\n",
    "from imblearn.over_sampling import SMOTE\n",
    "from sklearn.metrics import confusion_matrix, classification_report\n",
    "\n",
    "df = pd.read_csv(\"../../data/data/train-metadata.csv\", low_memory=False)\n",
    "missing_percentages = (df.isnull().sum() / len(df)) * 100\n",
    "columns_to_keep = missing_percentages[missing_percentages < 50].index\n",
    "skin_cancer_df = df[columns_to_keep]\n",
    "skin_cancer_df = skin_cancer_df.fillna(skin_cancer_df.mode().iloc[0])\n"
   ]
  },
  {
   "cell_type": "code",
   "execution_count": null,
   "id": "dabc71f4",
   "metadata": {},
   "outputs": [
    {
     "name": "stdout",
     "output_type": "stream",
     "text": [
      "Accuracy: 1.0\n",
      "\n",
      "Top 10 Most Important Features:\n",
      "                         feature  importance\n",
      "45                        iddx_1    0.341921\n",
      "44                     iddx_full    0.301331\n",
      "14                      tbp_lv_H    0.061557\n",
      "46  tbp_lv_dnn_lesion_confidence    0.046883\n",
      "18                tbp_lv_areaMM2    0.041050\n",
      "43             copyright_license    0.026922\n",
      "29            tbp_lv_minorAxisMM    0.024551\n",
      "5         clin_size_long_diam_mm    0.018127\n",
      "15                   tbp_lv_Hext    0.015758\n",
      "22                 tbp_lv_deltaB    0.013479\n",
      "\n",
      "Confusion Matrix:\n",
      "[[80138     0]\n",
      " [    0    74]]\n",
      "\n",
      "Detailed Classification Report:\n",
      "              precision    recall  f1-score   support\n",
      "\n",
      "           0       1.00      1.00      1.00     80138\n",
      "           1       1.00      1.00      1.00        74\n",
      "\n",
      "    accuracy                           1.00     80212\n",
      "   macro avg       1.00      1.00      1.00     80212\n",
      "weighted avg       1.00      1.00      1.00     80212\n",
      "\n"
     ]
    }
   ],
   "source": [
    "\n",
    "# Encode categorical variables\n",
    "categorical_columns = skin_cancer_df.select_dtypes(include=['object']).columns\n",
    "\n",
    "# Apply one-hot encoding\n",
    "skin_cancer_df = pd.get_dummies(skin_cancer_df, columns=categorical_columns, drop_first=True)\n",
    "X = skin_cancer_df.drop('target', axis=1)\n",
    "y = skin_cancer_df['target']\n",
    "\n",
    "X_train, X_test, y_train, y_test = train_test_split(X, y, test_size=0.2, random_state=42)\n",
    "\n",
    "sm = SMOTE(random_state=42)\n",
    "X_train_sm, y_train_sm = sm.fit_resample(X_train, y_train)"
   ]
  },
  {
   "cell_type": "code",
   "execution_count": null,
   "id": "79a17b17",
   "metadata": {},
   "outputs": [],
   "source": [
    "\n",
    "rf = RandomForestClassifier(n_estimators=300, class_weight='balanced', random_state=42)\n",
    "rf.fit(X_train_sm, y_train_sm)\n",
    "\n",
    "accuracy = rf.score(X_test, y_test)\n",
    "print(f\"Accuracy: {accuracy}\")\n",
    "\n",
    "feature_importance = pd.DataFrame({\n",
    "    'feature': X.columns,\n",
    "    'importance': rf.feature_importances_\n",
    "}).sort_values('importance', ascending=False)\n",
    "\n",
    "print(\"\\nTop 10 Most Important Features:\")\n",
    "print(feature_importance.head(10))\n",
    "\n",
    "y_pred = rf.predict(X_test) \n",
    "print(\"\\nConfusion Matrix:\")\n",
    "print(confusion_matrix(y_test, y_pred))\n",
    "\n",
    "print(\"\\nDetailed Classification Report:\")\n",
    "print(classification_report(y_test, y_pred))"
   ]
  }
 ],
 "metadata": {
  "kernelspec": {
   "display_name": "Python 3",
   "language": "python",
   "name": "python3"
  },
  "language_info": {
   "codemirror_mode": {
    "name": "ipython",
    "version": 3
   },
   "file_extension": ".py",
   "mimetype": "text/x-python",
   "name": "python",
   "nbconvert_exporter": "python",
   "pygments_lexer": "ipython3",
   "version": "3.12.3"
  }
 },
 "nbformat": 4,
 "nbformat_minor": 5
}
