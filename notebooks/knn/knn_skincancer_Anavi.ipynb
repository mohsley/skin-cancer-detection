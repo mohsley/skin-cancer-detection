{
  "cells": [
    {
      "cell_type": "markdown",
      "source": [
        "# Importing Libraries"
      ],
      "metadata": {
        "id": "OqxvpGa61KOi"
      },
      "id": "OqxvpGa61KOi"
    },
    {
      "cell_type": "code",
      "source": [
        "!pip install imbalanced-learn\n"
      ],
      "metadata": {
        "id": "he9_F9Q2Mp56"
      },
      "id": "he9_F9Q2Mp56",
      "execution_count": null,
      "outputs": []
    },
    {
      "cell_type": "code",
      "source": [
        "import requests\n",
        "import zipfile\n",
        "import os\n",
        "from imblearn.over_sampling import SMOTE\n",
        "import pandas as pd\n",
        "from sklearn.model_selection import train_test_split\n",
        "from sklearn.neighbors import KNeighborsClassifier\n",
        "from sklearn.preprocessing import StandardScaler\n",
        "from sklearn.metrics import accuracy_score, roc_curve, auc\n",
        "import matplotlib.pyplot as plt\n",
        "from sklearn.metrics import confusion_matrix"
      ],
      "metadata": {
        "id": "TxDydUBonjl0"
      },
      "id": "TxDydUBonjl0",
      "execution_count": null,
      "outputs": []
    },
    {
      "cell_type": "markdown",
      "source": [
        "# Importing Dataset"
      ],
      "metadata": {
        "id": "NwxjHKH11Pm9"
      },
      "id": "NwxjHKH11Pm9"
    },
    {
      "cell_type": "code",
      "source": [
        "url = \"https://github.com/mohsley/skin-cancer-detection/raw/refs/heads/main/data.zip\""
      ],
      "metadata": {
        "id": "4SoJ4kQTntgn"
      },
      "id": "4SoJ4kQTntgn",
      "execution_count": null,
      "outputs": []
    },
    {
      "cell_type": "code",
      "source": [
        "zip_file_path = \"data.zip\"\n",
        "response = requests.get(url)\n",
        "if response.status_code == 200:\n",
        "    with open(zip_file_path, \"wb\") as file:\n",
        "        file.write(response.content)\n",
        "    print(\"ZIP file downloaded successfully.\")\n",
        "else:\n",
        "    print(f\"Failed to download the ZIP file. Status code: {response.status_code}\")\n",
        "    exit()"
      ],
      "metadata": {
        "id": "pjHtO6Oj3CSs"
      },
      "id": "pjHtO6Oj3CSs",
      "execution_count": null,
      "outputs": []
    },
    {
      "cell_type": "code",
      "source": [
        "extract_folder = \"extracted_data\"\n",
        "os.makedirs(extract_folder, exist_ok=True)\n",
        "try:\n",
        "    with zipfile.ZipFile(zip_file_path, 'r') as zip_ref:\n",
        "        zip_ref.extractall(extract_folder)\n",
        "    print(\"ZIP file extracted successfully.\")\n",
        "except zipfile.BadZipFile:\n",
        "    print(\"Error: The downloaded file is not a valid ZIP file.\")"
      ],
      "metadata": {
        "id": "99wLuY2dpOoR"
      },
      "id": "99wLuY2dpOoR",
      "execution_count": null,
      "outputs": []
    },
    {
      "cell_type": "code",
      "source": [
        "!rm \"/content/data.zip\""
      ],
      "metadata": {
        "id": "28L5DreA6tF_"
      },
      "id": "28L5DreA6tF_",
      "execution_count": null,
      "outputs": []
    },
    {
      "cell_type": "code",
      "source": [
        "df = pd.read_csv(\"/content/extracted_data/data/train-metadata.csv\")"
      ],
      "metadata": {
        "id": "Sm6TEurvnG7B"
      },
      "id": "Sm6TEurvnG7B",
      "execution_count": null,
      "outputs": []
    },
    {
      "cell_type": "code",
      "source": [
        "df"
      ],
      "metadata": {
        "id": "hV9jojgNu-s3"
      },
      "id": "hV9jojgNu-s3",
      "execution_count": null,
      "outputs": []
    },
    {
      "cell_type": "code",
      "source": [
        "df.columns"
      ],
      "metadata": {
        "id": "u-KhZxiXJNzP"
      },
      "id": "u-KhZxiXJNzP",
      "execution_count": null,
      "outputs": []
    },
    {
      "cell_type": "code",
      "source": [
        "features_to_drop = [\n",
        "    # maybe drop these, but they don't make accuracy 1 so idk\n",
        "    'tbp_lv_Lext',\n",
        "    'tbp_lv_deltaLB',\n",
        "    'tbp_lv_location_simple',\n",
        "    'tbp_lv_norm_color',\n",
        "    'tbp_lv_perimeterMM',\n",
        "    'tbp_lv_radial_color_std_max',\n",
        "\n",
        "    # Clinical measurements\n",
        "    'mel_thick_mm',\n",
        "    'mel_mitotic_index',\n",
        "\n",
        "    # Model confidence scores\n",
        "    'tbp_lv_dnn_lesion_confidence',\n",
        "    'tbp_lv_nevi_confidence',\n",
        "\n",
        "    # IDs and metadata (not relevant for prediction)\n",
        "    'iddx_full',\n",
        "    'iddx_1',\n",
        "    'iddx_2',\n",
        "    'iddx_3',\n",
        "    'iddx_4',\n",
        "    'iddx_5',\n",
        "    'isic_id',\n",
        "    'patient_id',\n",
        "    'lesion_id',\n",
        "    'attribution',\n",
        "    'copyright_license'\n",
        "]"
      ],
      "metadata": {
        "id": "eHLT7ByKDAFG"
      },
      "id": "eHLT7ByKDAFG",
      "execution_count": null,
      "outputs": []
    },
    {
      "cell_type": "code",
      "source": [
        "df.drop(columns=features_to_drop,inplace=True)"
      ],
      "metadata": {
        "id": "e9SG9OhcI-Qp"
      },
      "id": "e9SG9OhcI-Qp",
      "execution_count": null,
      "outputs": []
    },
    {
      "cell_type": "code",
      "source": [
        "df.head()"
      ],
      "metadata": {
        "id": "iZ2BYbFTKMlY"
      },
      "id": "iZ2BYbFTKMlY",
      "execution_count": null,
      "outputs": []
    },
    {
      "cell_type": "code",
      "source": [
        "missing_percentages = (df.isnull().sum() / len(df)) * 100\n",
        "columns_to_keep = missing_percentages[missing_percentages < 50].index\n",
        "skin_cancer_df= df[columns_to_keep]\n",
        "skin_cancer_df = skin_cancer_df.fillna(skin_cancer_df.mode().iloc[0])\n",
        "skin_cancer_df.shape"
      ],
      "metadata": {
        "id": "1wpqb3Dxpdop"
      },
      "id": "1wpqb3Dxpdop",
      "execution_count": null,
      "outputs": []
    },
    {
      "cell_type": "code",
      "source": [
        "skin_cancer_df.columns"
      ],
      "metadata": {
        "id": "VEEC9EerMdyC"
      },
      "id": "VEEC9EerMdyC",
      "execution_count": null,
      "outputs": []
    },
    {
      "cell_type": "code",
      "source": [
        "\n",
        "skin_cancer_df.head()"
      ],
      "metadata": {
        "id": "F8_f7QSWqHyu"
      },
      "id": "F8_f7QSWqHyu",
      "execution_count": null,
      "outputs": []
    },
    {
      "cell_type": "code",
      "source": [
        "numerical_df = skin_cancer_df.select_dtypes(include=[\"number\"])\n"
      ],
      "metadata": {
        "id": "95wg-AdXsnrW"
      },
      "id": "95wg-AdXsnrW",
      "execution_count": null,
      "outputs": []
    },
    {
      "cell_type": "code",
      "source": [
        "numerical_df.head()"
      ],
      "metadata": {
        "id": "2-iQIKKnuoeM"
      },
      "id": "2-iQIKKnuoeM",
      "execution_count": null,
      "outputs": []
    },
    {
      "cell_type": "code",
      "source": [
        "numerical_df.shape"
      ],
      "metadata": {
        "id": "23KLyEh5ssTC"
      },
      "id": "23KLyEh5ssTC",
      "execution_count": null,
      "outputs": []
    },
    {
      "cell_type": "code",
      "source": [
        "X = numerical_df.drop('target', axis=1)\n",
        "y = numerical_df['target']"
      ],
      "metadata": {
        "id": "cor0NamzqNdJ"
      },
      "id": "cor0NamzqNdJ",
      "execution_count": null,
      "outputs": []
    },
    {
      "cell_type": "code",
      "source": [
        "X_train, X_test, y_train, y_test = train_test_split(X, y, test_size=0.05, random_state=42)"
      ],
      "metadata": {
        "id": "zwjJuhjPplaa"
      },
      "id": "zwjJuhjPplaa",
      "execution_count": null,
      "outputs": []
    },
    {
      "cell_type": "code",
      "source": [
        "scaler = StandardScaler()\n",
        "X_train = scaler.fit_transform(X_train)\n",
        "X_test = scaler.transform(X_test)"
      ],
      "metadata": {
        "id": "Jy9EC8wXsc3E"
      },
      "id": "Jy9EC8wXsc3E",
      "execution_count": null,
      "outputs": []
    },
    {
      "cell_type": "markdown",
      "source": [
        "#SMOTE"
      ],
      "metadata": {
        "id": "yPI6v1nIGva9"
      },
      "id": "yPI6v1nIGva9"
    },
    {
      "cell_type": "code",
      "source": [
        "smote = SMOTE(random_state=42)\n",
        "X_train_resampled, y_train_resampled = smote.fit_resample(X_train, y_train)"
      ],
      "metadata": {
        "id": "nliGroy4M9HC"
      },
      "id": "nliGroy4M9HC",
      "execution_count": null,
      "outputs": []
    },
    {
      "cell_type": "code",
      "source": [
        "print(\"Before SMOTE:\")\n",
        "print(y_train.value_counts())\n",
        "print(\"After SMOTE:\")\n",
        "print(pd.Series(y_train_resampled).value_counts())"
      ],
      "metadata": {
        "id": "qu7Q0kcJNEry"
      },
      "id": "qu7Q0kcJNEry",
      "execution_count": null,
      "outputs": []
    },
    {
      "cell_type": "code",
      "source": [
        "column_names = [f'feature_{i}' for i in range(X_train_resampled.shape[1])]  # Generate generic column names\n",
        "\n",
        "# Convert X_train_resampled and y_train_resampled to DataFrame and Series\n",
        "oversampled_data = pd.concat([\n",
        "    pd.DataFrame(X_train_resampled, columns=column_names),  # Use generated column names\n",
        "    pd.Series(y_train_resampled, name='target')             # Assign 'target' name to y\n",
        "], axis=1)\n",
        "# Sample 100,000 rows per class and combine\n",
        "final_data = (oversampled_data.groupby('target')\n",
        "                            .apply(lambda x: x.sample(n=10000, random_state=42))\n",
        "                            .reset_index(drop=True)\n",
        "                            .sample(frac=1, random_state=42))  # Shuffle data\n",
        "\n",
        "# Split into features and target\n",
        "X_final = final_data.drop(columns='target')\n",
        "y_final = final_data['target']\n",
        "\n",
        "# Verify the distribution\n",
        "print(\"Final class distribution:\")\n",
        "print(y_final.value_counts())"
      ],
      "metadata": {
        "id": "FV7bNihlPvn8"
      },
      "id": "FV7bNihlPvn8",
      "execution_count": null,
      "outputs": []
    },
    {
      "cell_type": "code",
      "source": [
        "# Visualizing feature distributions (histograms)\n",
        "import matplotlib.pyplot as plt\n",
        "\n",
        "for column in X_train.columns:\n",
        "    plt.figure(figsize=(6, 4))\n",
        "    plt.hist(X_train[column], bins=30, alpha=0.7, label='Training Data', color='blue', edgecolor='black')\n",
        "    plt.hist(X_test[column], bins=30, alpha=0.7, label='Testing Data', color='orange', edgecolor='black')\n",
        "    plt.title(f'Distribution of {column}', fontsize=14)\n",
        "    plt.xlabel(column, fontsize=12)\n",
        "    plt.ylabel('Frequency', fontsize=12)\n",
        "    plt.legend()\n",
        "    plt.show()\n"
      ],
      "metadata": {
        "id": "1-KB_y_xvCRw"
      },
      "id": "1-KB_y_xvCRw",
      "execution_count": null,
      "outputs": []
    },
    {
      "cell_type": "markdown",
      "source": [
        "# KNN"
      ],
      "metadata": {
        "id": "IsK-91B_1cEX"
      },
      "id": "IsK-91B_1cEX"
    },
    {
      "cell_type": "code",
      "source": [
        "results = []\n",
        "roc_data = []"
      ],
      "metadata": {
        "id": "qAmu0dDGLk7n"
      },
      "id": "qAmu0dDGLk7n",
      "execution_count": null,
      "outputs": []
    },
    {
      "cell_type": "code",
      "source": [
        "for k in range(2, 11):\n",
        "    knn = KNeighborsClassifier(n_neighbors=k)\n",
        "    knn.fit(X_final, y_final)\n",
        "    y_pred = knn.predict(X_test)\n",
        "    accuracy = accuracy_score(y_test, y_pred)\n",
        "    # y_proba = knn.predict_proba(X_test)[:, 1]\n",
        "    y_proba = (knn.predict_proba(X_test)[:, 1] > 0.3)\n",
        "    fpr, tpr, thresholds = roc_curve(y_test, y_proba)  # ROC components\n",
        "    roc_auc = auc(fpr, tpr)\n",
        "\n",
        "    results.append((k, accuracy, roc_auc))\n",
        "    roc_data.append((k, fpr, tpr, roc_auc))  # Store ROC data for later"
      ],
      "metadata": {
        "id": "TbWp_9SEvo2C"
      },
      "id": "TbWp_9SEvo2C",
      "execution_count": null,
      "outputs": []
    },
    {
      "cell_type": "code",
      "source": [
        "results"
      ],
      "metadata": {
        "id": "QEU60SgRYRzQ"
      },
      "id": "QEU60SgRYRzQ",
      "execution_count": null,
      "outputs": []
    },
    {
      "cell_type": "code",
      "source": [
        "\n",
        "for k, accuracy, roc_auc in results:\n",
        "    print(f\"k={k}, Accuracy={ accuracy:.4f}, AUC={roc_auc:.4f}\")"
      ],
      "metadata": {
        "id": "_-5HnItrQ9xn"
      },
      "id": "_-5HnItrQ9xn",
      "execution_count": null,
      "outputs": []
    },
    {
      "cell_type": "code",
      "source": [
        "import matplotlib.pyplot as plt\n",
        "\n",
        "# Plotting all ROC curves in one graph\n",
        "plt.figure(figsize=(10, 10))\n",
        "\n",
        "for k, fpr, tpr, roc_auc in roc_data:\n",
        "    plt.plot(fpr, tpr, label=f\"k={k} (AUC = {roc_auc:.2f})\")\n",
        "\n",
        "# Add the random guessing line\n",
        "plt.plot([0, 1], [0, 1], color=\"gray\", linestyle=\"--\", label=\"Random Guess\")\n",
        "\n",
        "# Graph details\n",
        "plt.title(\"Combined ROC Curves\", fontsize=16)\n",
        "plt.xlabel(\"False Positive Rate\", fontsize=12)\n",
        "plt.ylabel(\"True Positive Rate\", fontsize=12)\n",
        "plt.legend(loc=\"lower right\", fontsize=10)\n",
        "plt.grid(True)\n",
        "plt.tight_layout()\n",
        "plt.show()\n"
      ],
      "metadata": {
        "id": "72Fw1KkuSC1z"
      },
      "id": "72Fw1KkuSC1z",
      "execution_count": null,
      "outputs": []
    },
    {
      "cell_type": "code",
      "source": [
        "\n",
        "# from sklearn.neighbors import KNeighborsClassifier\n",
        "from sklearn.metrics import confusion_matrix, classification_report\n",
        "import seaborn as sns\n",
        "# import matplotlib.pyplot as plt\n",
        "\n",
        "# Initialize and train KNN with a predefined number of neighbors\n",
        "n_neighbors = 5  # You can set this to your preferred value\n",
        "knn = KNeighborsClassifier(n_neighbors=n_neighbors)\n",
        "knn.fit(X_train, y_train)\n",
        "\n",
        "# Make predictions\n",
        "y_pred = knn.predict(X_test)\n",
        "\n",
        "# Confusion matrix\n",
        "cm = confusion_matrix(y_test, y_pred)\n",
        "\n",
        "# Visualize the confusion matrix\n",
        "plt.figure(figsize=(8, 6))\n",
        "sns.heatmap(cm, annot=True, fmt='d', cmap='Blues',\n",
        "            xticklabels=['No Cancer', 'Cancer'],\n",
        "            yticklabels=['No Cancer', 'Cancer'])\n",
        "plt.title(f'Confusion Matrix (n_neighbors={n_neighbors})')\n",
        "plt.ylabel('True Label')\n",
        "plt.xlabel('Predicted Label')\n",
        "plt.show()\n",
        "\n",
        "# Print classification report\n",
        "print(f\"Classification Report for n_neighbors={n_neighbors}:\\n\")\n",
        "print(classification_report(y_test, y_pred))\n",
        "\n"
      ],
      "metadata": {
        "id": "lh8NlghtiZIk"
      },
      "id": "lh8NlghtiZIk",
      "execution_count": null,
      "outputs": []
    },
    {
      "cell_type": "code",
      "source": [
        "# Plotting Accuracy vs. n_neighbors\n",
        "# results = grid_search.cv_results_\n",
        "# n_neighbors = param_grid['n_neighbors']\n",
        "# mean_test_score = results['mean_test_score']\n",
        "\n",
        "# plt.figure(figsize=(8, 6))\n",
        "# plt.plot(n_neighbors, mean_test_score, marker='o', linestyle='-', color='blue')\n",
        "# plt.title('Hyperparameter Tuning: Accuracy vs. n_neighbors', fontsize=16)\n",
        "# plt.xlabel('Number of Neighbors (n_neighbors)', fontsize=12)\n",
        "# plt.ylabel('Cross-Validated Accuracy', fontsize=12)\n",
        "# plt.xticks(n_neighbors)\n",
        "# plt.grid(True)\n",
        "# plt.show()\n",
        "\n",
        "from sklearn.neighbors import KNeighborsClassifier\n",
        "from sklearn.metrics import accuracy_score\n",
        "import matplotlib.pyplot as plt\n",
        "import seaborn as sns\n",
        "\n",
        "# Define a range of values for n_neighbors\n",
        "n_neighbors_range = range(1, 11)  # Adjust range as needed\n",
        "train_accuracies = []\n",
        "test_accuracies = []\n",
        "\n",
        "# Loop through different values of n_neighbors\n",
        "for n in n_neighbors_range:\n",
        "    knn = KNeighborsClassifier(n_neighbors=n)\n",
        "    knn.fit(X_train, y_train)\n",
        "\n",
        "    # Calculate accuracy for both training and testing datasets\n",
        "    train_accuracies.append(accuracy_score(y_train, knn.predict(X_train)))\n",
        "    test_accuracies.append(accuracy_score(y_test, knn.predict(X_test)))\n",
        "\n",
        "# Plot training and testing accuracies\n",
        "plt.figure(figsize=(8, 6))\n",
        "plt.plot(n_neighbors_range, train_accuracies, marker='o', linestyle='-', label='Training Accuracy', color='blue')\n",
        "plt.plot(n_neighbors_range, test_accuracies, marker='o', linestyle='--', label='Testing Accuracy', color='orange')\n",
        "plt.title('Accuracy vs. Number of Neighbors (n_neighbors)', fontsize=16)\n",
        "plt.xlabel('Number of Neighbors (n_neighbors)', fontsize=12)\n",
        "plt.ylabel('Accuracy', fontsize=12)\n",
        "plt.legend()\n",
        "plt.grid(True)\n",
        "plt.show()\n",
        "\n",
        "# Confusion matrix for the best-performing n_neighbors (optional)\n",
        "best_n = n_neighbors_range[test_accuracies.index(max(test_accuracies))]\n",
        "print(f\"Best n_neighbors based on testing accuracy: {best_n}\")\n",
        "\n",
        "# Train and evaluate model using the best n_neighbors\n",
        "best_knn = KNeighborsClassifier(n_neighbors=best_n)\n",
        "best_knn.fit(X_train, y_train)\n",
        "y_pred = best_knn.predict(X_test)\n",
        "\n",
        "cm = confusion_matrix(y_test, y_pred)\n",
        "\n",
        "plt.figure(figsize=(8, 6))\n",
        "sns.heatmap(cm, annot=True, fmt='d', cmap='Blues',\n",
        "            xticklabels=['No Cancer', 'Cancer'],\n",
        "            yticklabels=['No Cancer', 'Cancer'])\n",
        "plt.title(f'Confusion Matrix (Best n_neighbors={best_n})')\n",
        "plt.ylabel('True Label')\n",
        "plt.xlabel('Predicted Label')\n",
        "plt.show()\n",
        "\n"
      ],
      "metadata": {
        "id": "xHj9brTTvJuE"
      },
      "id": "xHj9brTTvJuE",
      "execution_count": null,
      "outputs": []
    },
    {
      "cell_type": "markdown",
      "source": [
        "#----------------END WITH CSV-----------------------\n",
        "\n",
        "\n",
        "\n"
      ],
      "metadata": {
        "id": "7LBw7qmHRNz-"
      },
      "id": "7LBw7qmHRNz-"
    },
    {
      "cell_type": "markdown",
      "source": [
        "-------------------START WITH IMAGES-----------------"
      ],
      "metadata": {
        "id": "Y0P-CUu2UOrC"
      },
      "id": "Y0P-CUu2UOrC"
    },
    {
      "cell_type": "code",
      "source": [
        "from google.colab import files\n",
        "files.upload()\n"
      ],
      "metadata": {
        "id": "89V-mQIXKXbL"
      },
      "id": "89V-mQIXKXbL",
      "execution_count": null,
      "outputs": []
    },
    {
      "cell_type": "code",
      "source": [
        "import os\n",
        "\n",
        "# Create the .kaggle directory\n",
        "os.makedirs('/root/.kaggle', exist_ok=True)\n",
        "\n",
        "# Move kaggle.json to the correct directory\n",
        "!mv kaggle.json /root/.kaggle/\n",
        "\n",
        "# Set the correct permissions\n",
        "!chmod 600 /root/.kaggle/kaggle.json\n"
      ],
      "metadata": {
        "id": "6CCgXI8aKdZp"
      },
      "id": "6CCgXI8aKdZp",
      "execution_count": null,
      "outputs": []
    },
    {
      "cell_type": "code",
      "source": [
        "%cd '/content/extracted_data/data'"
      ],
      "metadata": {
        "id": "tPQ75oRHKloo"
      },
      "id": "tPQ75oRHKloo",
      "execution_count": null,
      "outputs": []
    },
    {
      "cell_type": "code",
      "source": [
        "!kaggle competitions download -c isic-2024-challenge"
      ],
      "metadata": {
        "id": "Kg1gJSb5LUyq"
      },
      "id": "Kg1gJSb5LUyq",
      "execution_count": null,
      "outputs": []
    },
    {
      "cell_type": "code",
      "source": [
        "!unzip \"/content/extracted_data/data/isic-2024-challenge.zip\""
      ],
      "metadata": {
        "id": "1wPwrdIxMrJc"
      },
      "id": "1wPwrdIxMrJc",
      "execution_count": null,
      "outputs": []
    },
    {
      "cell_type": "code",
      "source": [
        "y!rm \"/content/extracted_data/data/isic-2024-challenge.zip\""
      ],
      "metadata": {
        "id": "LUorUTnlMvQt"
      },
      "id": "LUorUTnlMvQt",
      "execution_count": null,
      "outputs": []
    },
    {
      "cell_type": "code",
      "source": [
        "import numpy as np\n",
        "import pandas as pd\n",
        "import seaborn as sns\n",
        "import matplotlib.pyplot as plt\n",
        "import matplotlib.image as mpimg\n",
        "from PIL import Image\n",
        "from sklearn.model_selection import train_test_split, cross_val_score\n",
        "from sklearn.metrics import classification_report, accuracy_score, confusion_matrix, roc_curve, auc\n",
        "from sklearn.preprocessing import LabelEncoder, StandardScaler\n",
        "from sklearn.decomposition import PCA\n",
        "from imblearn.over_sampling import SMOTE\n",
        "import os\n",
        "from tqdm import tqdm\n",
        "\n",
        "df = pd.read_csv(\"/content/extracted_data/data/train-metadata.csv\", low_memory=False)\n",
        "df = df.sample(frac=1, random_state=42).reset_index(drop=True)\n",
        "\n",
        "print(df.head)\n",
        "benign = df[df['target'] == 0]\n",
        "malignant  = df[df['target'] == 1]\n",
        "\n",
        "benign_sampled = benign.sample(n=3000, random_state=42)\n",
        "subset_df = pd.concat([benign_sampled, malignant ])\n",
        "\n",
        "print(f\"Class 0 samples: {len(benign_sampled)}\")\n",
        "print(f\"Class 1 samples: {len(malignant )}\")\n",
        "print(f\"Total samples: {len(subset_df)}\")\n",
        "\n",
        "missing_percentages = (subset_df.isnull().sum() / len(subset_df)) * 100\n",
        "columns_to_keep = missing_percentages[missing_percentages < 50].index\n",
        "skin_cancer_df = subset_df[columns_to_keep]\n",
        "\n",
        "features_to_drop = [\n",
        "    'iddx_full',\n",
        "    'iddx_1',\n",
        "    'iddx_2',\n",
        "    'iddx_3',\n",
        "    'iddx_4',\n",
        "    'iddx_5',\n",
        "    'patient_id',\n",
        "    'lesion_id',\n",
        "    'attribution',\n",
        "    'copyright_license'\n",
        "]\n",
        "\n",
        "# We do this because depending on the seed and shuffle, the columns that get dropped will be different!\n",
        "for col in features_to_drop:\n",
        "    if col in skin_cancer_df.columns:\n",
        "        print(f\"Dropping column: {col}\")\n",
        "        skin_cancer_df = skin_cancer_df.drop(columns=[col])\n",
        "\n",
        "numeric_columns = skin_cancer_df.select_dtypes(include=['int64', 'float64']).columns\n",
        "categorical_columns = skin_cancer_df.select_dtypes(include=['object', 'category']).columns\n",
        "\n",
        "skin_cancer_df[numeric_columns] = skin_cancer_df[numeric_columns].fillna(\n",
        "    skin_cancer_df[numeric_columns].median())\n",
        "skin_cancer_df[categorical_columns] = skin_cancer_df[categorical_columns].fillna(\n",
        "    skin_cancer_df[categorical_columns].mode().iloc[0])\n",
        "\n",
        "for col in categorical_columns:\n",
        "    if col != 'isic_id':\n",
        "        le = LabelEncoder()\n",
        "        skin_cancer_df[col] = le.fit_transform(skin_cancer_df[col])\n",
        "\n",
        "expected_samples = len(skin_cancer_df)\n",
        "image_features = np.zeros((expected_samples, 128 * 128 * 3))\n",
        "valid_indices = []\n",
        "\n",
        "for idx, isic_id in tqdm(enumerate(skin_cancer_df['isic_id']), total=expected_samples):\n",
        "    try:\n",
        "        file_path = os.path.join((\"/content/extracted_data/data/train-image/image\", f\"{isic_id}.jpg\")\n",
        "        if os.path.exists(file_path):\n",
        "            img = mpimg.imread(file_path)\n",
        "            img_resized = np.array(Image.fromarray(img).resize((128, 128)))\n",
        "            image_features[idx] = img_resized.reshape(-1)\n",
        "            valid_indices.append(idx)\n",
        "    except Exception as e:\n",
        "        print(f\"Error processing {isic_id}: {str(e)}\")\n",
        "        continue\n",
        "\n",
        "if not valid_indices:\n",
        "    raise ValueError(\"No valid images were processed\")\n",
        "\n",
        "image_features = image_features[valid_indices]\n",
        "\n",
        "image_features_scaled = image_features / 255.0\n",
        "n_components = 150\n",
        "pca = PCA(n_components=n_components, random_state=42)\n",
        "image_features_pca = pca.fit_transform(image_features_scaled)\n",
        "\n",
        "pca_columns = [f'pca_{i}' for i in range(n_components)]\n",
        "image_df = pd.DataFrame(image_features_pca, columns=pca_columns)\n",
        "\n",
        "explained_variance = np.cumsum(pca.explained_variance_ratio_)\n",
        "print(f\"\\nVariance explained by {n_components} components: {explained_variance[-1]}\")\n",
        "\n",
        "X = pd.concat([\n",
        "    skin_cancer_df.drop(['isic_id', 'target'], axis=1).reset_index(drop=True),\n",
        "    image_df\n",
        "], axis=1)\n",
        "y = skin_cancer_df['target'].reset_index(drop=True)\n",
        "\n",
        "X_train, X_test, y_train, y_test = train_test_split(X, y, test_size=0.2, random_state=42, stratify=y)"
      ],
      "metadata": {
        "id": "7N-Pf8ZAIM7t"
      },
      "id": "7N-Pf8ZAIM7t",
      "execution_count": null,
      "outputs": []
    },
    {
      "cell_type": "code",
      "source": [
        "train_score = {}\n",
        "test_score = {}\n",
        "n_neighbors = np.arange(2, 10, 1)\n",
        "for neighbor in n_neighbors:\n",
        "    knn = KNeighborsClassifier(n_neighbors=neighbor)\n",
        "    knn.fit(X_train, y_train)\n",
        "    train_score[neighbor]=knn.score(X_train, y_train)\n",
        "    test_score[neighbor]=knn.score(X_test, y_test)"
      ],
      "metadata": {
        "id": "1t8p79hJoVs9"
      },
      "id": "1t8p79hJoVs9",
      "execution_count": null,
      "outputs": []
    },
    {
      "cell_type": "code",
      "source": [
        "plt.plot(n_neighbors, train_score.values(), label=\"Train Accuracy\")\n",
        "plt.plot(n_neighbors, test_score.values(), label=\"Test Accuracy\")\n",
        "plt.xlabel(\"Number Of Neighbors\")\n",
        "plt.ylabel(\"Accuracy\")\n",
        "plt.title(\"KNN: Varying number of Neighbors\")\n",
        "plt.legend()\n",
        "plt.xlim(0, 33)\n",
        "plt.ylim(0.60, 0.90)\n",
        "plt.grid()\n",
        "plt.show()"
      ],
      "metadata": {
        "id": "oMsReL1qoeo_"
      },
      "id": "oMsReL1qoeo_",
      "execution_count": null,
      "outputs": []
    },
    {
      "cell_type": "code",
      "source": [
        "# Visualizing feature distributions (histograms)\n",
        "import matplotlib.pyplot as plt\n",
        "\n",
        "for column in X_train.columns:\n",
        "    plt.figure(figsize=(6, 4))\n",
        "    plt.hist(X_train[column], bins=30, alpha=0.7, label='Training Data', color='blue', edgecolor='black')\n",
        "    plt.hist(X_test[column], bins=30, alpha=0.7, label='Testing Data', color='orange', edgecolor='black')\n",
        "    plt.title(f'Distribution of {column}', fontsize=14)\n",
        "    plt.xlabel(column, fontsize=12)\n",
        "    plt.ylabel('Frequency', fontsize=12)\n",
        "    plt.legend()\n",
        "    plt.show()\n"
      ],
      "metadata": {
        "id": "zuz8P6--vRcN"
      },
      "id": "zuz8P6--vRcN",
      "execution_count": null,
      "outputs": []
    },
    {
      "cell_type": "code",
      "source": [
        "results = []\n",
        "roc_data = []\n",
        "for k in range(2, 11):\n",
        "    knn = KNeighborsClassifier(n_neighbors=k)\n",
        "    knn.fit(X_train, y_train)\n",
        "    y_pred = knn.predict(X_test)\n",
        "    accuracy = accuracy_score(y_test, y_pred)\n",
        "    y_proba = knn.predict_proba(X_test)[:, 1]\n",
        "    fpr, tpr, thresholds = roc_curve(y_test, y_proba)  # ROC components\n",
        "    roc_auc = auc(fpr, tpr)\n",
        "\n",
        "    results.append((k, accuracy, roc_auc))\n",
        "    roc_data.append((k, fpr, tpr, roc_auc))"
      ],
      "metadata": {
        "id": "js5zBLkWNbRm"
      },
      "id": "js5zBLkWNbRm",
      "execution_count": null,
      "outputs": []
    },
    {
      "cell_type": "code",
      "source": [
        "for k, accuracy, roc_auc in results:\n",
        "    print(f\"k={k}, AUC={roc_auc:.4f}, Accuracy={accuracy:.4f}\")"
      ],
      "metadata": {
        "id": "U9SqUgazOp1F"
      },
      "id": "U9SqUgazOp1F",
      "execution_count": null,
      "outputs": []
    },
    {
      "cell_type": "code",
      "source": [
        "import matplotlib.pyplot as plt\n",
        "\n",
        "# Plotting all ROC curves in one graph\n",
        "plt.figure(figsize=(10, 10))\n",
        "\n",
        "for k, fpr, tpr, roc_auc in roc_data:\n",
        "    plt.plot(fpr, tpr, label=f\"k={k} (AUC = {roc_auc:.2f})\")\n",
        "\n",
        "# Add the random guessing line\n",
        "plt.plot([0, 1], [0, 1], color=\"gray\", linestyle=\"--\", label=\"Random Guess\")\n",
        "\n",
        "# Graph details\n",
        "plt.title(\"Combined ROC Curves\", fontsize=16)\n",
        "plt.xlabel(\"False Positive Rate\", fontsize=12)\n",
        "plt.ylabel(\"True Positive Rate\", fontsize=12)\n",
        "plt.legend(loc=\"lower right\", fontsize=10)\n",
        "plt.grid(True)\n",
        "plt.tight_layout()\n",
        "plt.show()\n"
      ],
      "metadata": {
        "id": "5rkHpvBdRXYA"
      },
      "id": "5rkHpvBdRXYA",
      "execution_count": null,
      "outputs": []
    },
    {
      "cell_type": "code",
      "source": [
        "# from sklearn.neighbors import KNeighborsClassifier\n",
        "# from sklearn.metrics import confusion_matrix, classification_report\n",
        "import seaborn as sns\n",
        "# import matplotlib.pyplot as plt\n",
        "\n",
        "# Initialize and train KNN with a predefined number of neighbors\n",
        "n_neighbors = 5  # You can set this to your preferred value\n",
        "knn = KNeighborsClassifier(n_neighbors=n_neighbors)\n",
        "knn.fit(X_train, y_train)\n",
        "\n",
        "# Make predictions\n",
        "y_pred = knn.predict(X_test)\n",
        "\n",
        "# Confusion matrix\n",
        "cm = confusion_matrix(y_test, y_pred)\n",
        "\n",
        "# Visualize the confusion matrix\n",
        "plt.figure(figsize=(8, 6))\n",
        "sns.heatmap(cm, annot=True, fmt='d', cmap='Blues',\n",
        "            xticklabels=['No Cancer', 'Cancer'],\n",
        "            yticklabels=['No Cancer', 'Cancer'])\n",
        "plt.title(f'Confusion Matrix (n_neighbors={n_neighbors})')\n",
        "plt.ylabel('True Label')\n",
        "plt.xlabel('Predicted Label')\n",
        "plt.show()\n",
        "\n",
        "# Print classification report\n",
        "print(f\"Classification Report for n_neighbors={n_neighbors}:\\n\")\n",
        "print(classification_report(y_test, y_pred))\n"
      ],
      "metadata": {
        "id": "D-E_zG5PqhFC"
      },
      "id": "D-E_zG5PqhFC",
      "execution_count": null,
      "outputs": []
    },
    {
      "cell_type": "code",
      "source": [
        "# # Plotting Accuracy vs. n_neighbors\n",
        "# results = grid_search.cv_results_\n",
        "# n_neighbors = param_grid['n_neighbors']\n",
        "# mean_test_score = results['mean_test_score']\n",
        "\n",
        "# plt.figure(figsize=(8, 6))\n",
        "# plt.plot(n_neighbors, mean_test_score, marker='o', linestyle='-', color='blue')\n",
        "# plt.title('Hyperparameter Tuning: Accuracy vs. n_neighbors', fontsize=16)\n",
        "# plt.xlabel('Number of Neighbors (n_neighbors)', fontsize=12)\n",
        "# plt.ylabel('Cross-Validated Accuracy', fontsize=12)\n",
        "# plt.xticks(n_neighbors)\n",
        "# plt.grid(True)\n",
        "# plt.show()\n",
        "from sklearn.neighbors import KNeighborsClassifier\n",
        "from sklearn.metrics import accuracy_score\n",
        "import matplotlib.pyplot as plt\n",
        "import seaborn as sns\n",
        "\n",
        "# Define a range of values for n_neighbors\n",
        "n_neighbors_range = range(1, 11)  # Adjust range as needed\n",
        "train_accuracies = []\n",
        "test_accuracies = []\n",
        "\n",
        "# Loop through different values of n_neighbors\n",
        "for n in n_neighbors_range:\n",
        "    knn = KNeighborsClassifier(n_neighbors=n)\n",
        "    knn.fit(X_train, y_train)\n",
        "\n",
        "    # Calculate accuracy for both training and testing datasets\n",
        "    train_accuracies.append(accuracy_score(y_train, knn.predict(X_train)))\n",
        "    test_accuracies.append(accuracy_score(y_test, knn.predict(X_test)))\n",
        "\n",
        "# Plot training and testing accuracies\n",
        "plt.figure(figsize=(8, 6))\n",
        "plt.plot(n_neighbors_range, train_accuracies, marker='o', linestyle='-', label='Training Accuracy', color='blue')\n",
        "plt.plot(n_neighbors_range, test_accuracies, marker='o', linestyle='--', label='Testing Accuracy', color='orange')\n",
        "plt.title('Accuracy vs. Number of Neighbors (n_neighbors)', fontsize=16)\n",
        "plt.xlabel('Number of Neighbors (n_neighbors)', fontsize=12)\n",
        "plt.ylabel('Accuracy', fontsize=12)\n",
        "plt.legend()\n",
        "plt.grid(True)\n",
        "plt.show()\n",
        "\n",
        "# Confusion matrix for the best-performing n_neighbors (optional)\n",
        "best_n = n_neighbors_range[test_accuracies.index(max(test_accuracies))]\n",
        "print(f\"Best n_neighbors based on testing accuracy: {best_n}\")\n",
        "\n",
        "# Train and evaluate model using the best n_neighbors\n",
        "best_knn = KNeighborsClassifier(n_neighbors=best_n)\n",
        "best_knn.fit(X_train, y_train)\n",
        "y_pred = best_knn.predict(X_test)\n",
        "\n",
        "cm = confusion_matrix(y_test, y_pred)\n",
        "\n",
        "plt.figure(figsize=(8, 6))\n",
        "sns.heatmap(cm, annot=True, fmt='d', cmap='Blues',\n",
        "            xticklabels=['No Cancer', 'Cancer'],\n",
        "            yticklabels=['No Cancer', 'Cancer'])\n",
        "plt.title(f'Confusion Matrix (Best n_neighbors={best_n})')\n",
        "plt.ylabel('True Label')\n",
        "plt.xlabel('Predicted Label')\n",
        "plt.show()\n",
        "\n"
      ],
      "metadata": {
        "id": "8pUZWldPvbH2"
      },
      "id": "8pUZWldPvbH2",
      "execution_count": null,
      "outputs": []
    }
  ],
  "metadata": {
    "kernelspec": {
      "display_name": "Python 3",
      "name": "python3"
    },
    "language_info": {
      "codemirror_mode": {
        "name": "ipython",
        "version": 3
      },
      "file_extension": ".py",
      "mimetype": "text/x-python",
      "name": "python",
      "nbconvert_exporter": "python",
      "pygments_lexer": "ipython3",
      "version": "3.12.3"
    },
    "colab": {
      "provenance": [],
      "gpuType": "T4"
    },
    "accelerator": "GPU"
  },
  "nbformat": 4,
  "nbformat_minor": 5
}