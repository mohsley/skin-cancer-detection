{
  "cells": [
    {
      "cell_type": "markdown",
      "metadata": {
        "id": "view-in-github",
        "colab_type": "text"
      },
      "source": [
        "<a href=\"https://colab.research.google.com/github/mohsley/skin-cancer-detection/blob/main/knn_skincancer_Anavi_FINAL_(1).ipynb\" target=\"_parent\"><img src=\"https://colab.research.google.com/assets/colab-badge.svg\" alt=\"Open In Colab\"/></a>"
      ]
    },
    {
      "cell_type": "markdown",
      "id": "OqxvpGa61KOi",
      "metadata": {
        "id": "OqxvpGa61KOi"
      },
      "source": [
        "# Importing Libraries"
      ]
    },
    {
      "cell_type": "code",
      "execution_count": null,
      "id": "he9_F9Q2Mp56",
      "metadata": {
        "id": "he9_F9Q2Mp56"
      },
      "outputs": [],
      "source": [
        "!pip install imbalanced-learn\n"
      ]
    },
    {
      "cell_type": "code",
      "execution_count": null,
      "id": "TxDydUBonjl0",
      "metadata": {
        "id": "TxDydUBonjl0"
      },
      "outputs": [],
      "source": [
        "import requests\n",
        "import zipfile\n",
        "import os\n",
        "from imblearn.over_sampling import SMOTE\n",
        "import pandas as pd\n",
        "from sklearn.model_selection import train_test_split\n",
        "from sklearn.neighbors import KNeighborsClassifier\n",
        "from sklearn.preprocessing import StandardScaler\n",
        "from sklearn.metrics import accuracy_score, roc_curve, auc\n",
        "import matplotlib.pyplot as plt\n",
        "from sklearn.metrics import confusion_matrix"
      ]
    },
    {
      "cell_type": "markdown",
      "id": "NwxjHKH11Pm9",
      "metadata": {
        "id": "NwxjHKH11Pm9"
      },
      "source": [
        "# Importing Dataset"
      ]
    },
    {
      "cell_type": "code",
      "execution_count": null,
      "id": "4SoJ4kQTntgn",
      "metadata": {
        "id": "4SoJ4kQTntgn"
      },
      "outputs": [],
      "source": [
        "url = \"https://github.com/mohsley/skin-cancer-detection/raw/refs/heads/main/data.zip\""
      ]
    },
    {
      "cell_type": "code",
      "execution_count": null,
      "id": "pjHtO6Oj3CSs",
      "metadata": {
        "id": "pjHtO6Oj3CSs"
      },
      "outputs": [],
      "source": [
        "zip_file_path = \"data.zip\"\n",
        "response = requests.get(url)\n",
        "if response.status_code == 200:\n",
        "    with open(zip_file_path, \"wb\") as file:\n",
        "        file.write(response.content)\n",
        "    print(\"ZIP file downloaded successfully.\")\n",
        "else:\n",
        "    print(f\"Failed to download the ZIP file. Status code: {response.status_code}\")\n",
        "    exit()"
      ]
    },
    {
      "cell_type": "code",
      "execution_count": null,
      "id": "99wLuY2dpOoR",
      "metadata": {
        "id": "99wLuY2dpOoR"
      },
      "outputs": [],
      "source": [
        "extract_folder = \"extracted_data\"\n",
        "os.makedirs(extract_folder, exist_ok=True)\n",
        "try:\n",
        "    with zipfile.ZipFile(zip_file_path, 'r') as zip_ref:\n",
        "        zip_ref.extractall(extract_folder)\n",
        "    print(\"ZIP file extracted successfully.\")\n",
        "except zipfile.BadZipFile:\n",
        "    print(\"Error: The downloaded file is not a valid ZIP file.\")"
      ]
    },
    {
      "cell_type": "code",
      "execution_count": null,
      "id": "28L5DreA6tF_",
      "metadata": {
        "id": "28L5DreA6tF_"
      },
      "outputs": [],
      "source": [
        "!rm \"/content/data.zip\""
      ]
    },
    {
      "cell_type": "code",
      "execution_count": null,
      "id": "Sm6TEurvnG7B",
      "metadata": {
        "id": "Sm6TEurvnG7B"
      },
      "outputs": [],
      "source": [
        "# df = pd.read_csv(\"C:/Users/91897/Downloads/data/data/train-metadata.csv\")\n",
        "df = pd.read_csv(\"/content/extracted_data/data/train-metadata.csv\")"
      ]
    },
    {
      "cell_type": "code",
      "execution_count": null,
      "id": "hV9jojgNu-s3",
      "metadata": {
        "id": "hV9jojgNu-s3"
      },
      "outputs": [],
      "source": [
        "df"
      ]
    },
    {
      "cell_type": "code",
      "execution_count": null,
      "id": "u-KhZxiXJNzP",
      "metadata": {
        "id": "u-KhZxiXJNzP"
      },
      "outputs": [],
      "source": [
        "df.columns"
      ]
    },
    {
      "cell_type": "code",
      "execution_count": null,
      "id": "eHLT7ByKDAFG",
      "metadata": {
        "id": "eHLT7ByKDAFG"
      },
      "outputs": [],
      "source": [
        "features_to_drop = [\n",
        "    # maybe drop these, but they don't make accuracy 1 so idk\n",
        "    'tbp_lv_Lext',\n",
        "    'tbp_lv_deltaLB',\n",
        "    'tbp_lv_location_simple',\n",
        "    'tbp_lv_norm_color',\n",
        "    'tbp_lv_perimeterMM',\n",
        "    'tbp_lv_radial_color_std_max',\n",
        "\n",
        "    # Clinical measurements\n",
        "    'mel_thick_mm',\n",
        "    'mel_mitotic_index',\n",
        "\n",
        "    # Model confidence scores\n",
        "    'tbp_lv_dnn_lesion_confidence',\n",
        "    'tbp_lv_nevi_confidence',\n",
        "\n",
        "    # IDs and metadata (not relevant for prediction)\n",
        "    'iddx_full',\n",
        "    'iddx_1',\n",
        "    'iddx_2',\n",
        "    'iddx_3',\n",
        "    'iddx_4',\n",
        "    'iddx_5',\n",
        "    'isic_id',\n",
        "    'patient_id',\n",
        "    'lesion_id',\n",
        "    'attribution',\n",
        "    'copyright_license'\n",
        "]"
      ]
    },
    {
      "cell_type": "code",
      "execution_count": null,
      "id": "e9SG9OhcI-Qp",
      "metadata": {
        "id": "e9SG9OhcI-Qp"
      },
      "outputs": [],
      "source": [
        "df.drop(columns=features_to_drop,inplace=True)"
      ]
    },
    {
      "cell_type": "code",
      "execution_count": null,
      "id": "iZ2BYbFTKMlY",
      "metadata": {
        "id": "iZ2BYbFTKMlY"
      },
      "outputs": [],
      "source": [
        "df.head()"
      ]
    },
    {
      "cell_type": "code",
      "execution_count": null,
      "id": "1wpqb3Dxpdop",
      "metadata": {
        "id": "1wpqb3Dxpdop"
      },
      "outputs": [],
      "source": [
        "missing_percentages = (df.isnull().sum() / len(df)) * 100\n",
        "columns_to_keep = missing_percentages[missing_percentages < 50].index\n",
        "skin_cancer_df= df[columns_to_keep]\n",
        "skin_cancer_df = skin_cancer_df.fillna(skin_cancer_df.mode().iloc[0])\n",
        "skin_cancer_df.shape"
      ]
    },
    {
      "cell_type": "code",
      "execution_count": null,
      "id": "VEEC9EerMdyC",
      "metadata": {
        "id": "VEEC9EerMdyC"
      },
      "outputs": [],
      "source": [
        "skin_cancer_df.columns"
      ]
    },
    {
      "cell_type": "code",
      "execution_count": null,
      "id": "F8_f7QSWqHyu",
      "metadata": {
        "id": "F8_f7QSWqHyu"
      },
      "outputs": [],
      "source": [
        "skin_cancer_df.head()"
      ]
    },
    {
      "cell_type": "code",
      "execution_count": null,
      "id": "95wg-AdXsnrW",
      "metadata": {
        "id": "95wg-AdXsnrW"
      },
      "outputs": [],
      "source": [
        "numerical_df = skin_cancer_df.select_dtypes(include=[\"number\"])\n"
      ]
    },
    {
      "cell_type": "code",
      "execution_count": null,
      "id": "2-iQIKKnuoeM",
      "metadata": {
        "id": "2-iQIKKnuoeM"
      },
      "outputs": [],
      "source": [
        "numerical_df.head()"
      ]
    },
    {
      "cell_type": "code",
      "execution_count": null,
      "id": "23KLyEh5ssTC",
      "metadata": {
        "id": "23KLyEh5ssTC"
      },
      "outputs": [],
      "source": [
        "numerical_df.shape"
      ]
    },
    {
      "cell_type": "code",
      "execution_count": null,
      "id": "cor0NamzqNdJ",
      "metadata": {
        "id": "cor0NamzqNdJ"
      },
      "outputs": [],
      "source": [
        "X = numerical_df.drop('target', axis=1)\n",
        "y = numerical_df['target']"
      ]
    },
    {
      "cell_type": "code",
      "execution_count": null,
      "id": "zwjJuhjPplaa",
      "metadata": {
        "id": "zwjJuhjPplaa"
      },
      "outputs": [],
      "source": [
        "X_train, X_test, y_train, y_test = train_test_split(X, y, test_size=0.05, random_state=42)"
      ]
    },
    {
      "cell_type": "code",
      "execution_count": null,
      "id": "Jy9EC8wXsc3E",
      "metadata": {
        "id": "Jy9EC8wXsc3E"
      },
      "outputs": [],
      "source": [
        "scaler = StandardScaler()\n",
        "X_train = scaler.fit_transform(X_train)\n",
        "X_test = scaler.transform(X_test)"
      ]
    },
    {
      "cell_type": "markdown",
      "id": "yPI6v1nIGva9",
      "metadata": {
        "id": "yPI6v1nIGva9"
      },
      "source": [
        "#SMOTE"
      ]
    },
    {
      "cell_type": "code",
      "execution_count": null,
      "id": "nliGroy4M9HC",
      "metadata": {
        "id": "nliGroy4M9HC"
      },
      "outputs": [],
      "source": [
        "smote = SMOTE(random_state=42)\n",
        "X_train_resampled, y_train_resampled = smote.fit_resample(X_train, y_train)"
      ]
    },
    {
      "cell_type": "code",
      "execution_count": null,
      "id": "qu7Q0kcJNEry",
      "metadata": {
        "id": "qu7Q0kcJNEry"
      },
      "outputs": [],
      "source": [
        "print(\"Before SMOTE:\")\n",
        "print(y_train.value_counts())\n",
        "print(\"After SMOTE:\")\n",
        "print(pd.Series(y_train_resampled).value_counts())"
      ]
    },
    {
      "cell_type": "code",
      "execution_count": null,
      "id": "FV7bNihlPvn8",
      "metadata": {
        "id": "FV7bNihlPvn8"
      },
      "outputs": [],
      "source": [
        "column_names = [f'feature_{i}' for i in range(X_train_resampled.shape[1])]  # Generate generic column names\n",
        "\n",
        "# Convert X_train_resampled and y_train_resampled to DataFrame and Series\n",
        "oversampled_data = pd.concat([\n",
        "    pd.DataFrame(X_train_resampled, columns=column_names),  # Use generated column names\n",
        "    pd.Series(y_train_resampled, name='target')             # Assign 'target' name to y\n",
        "], axis=1)\n",
        "# Sample 100,000 rows per class and combine\n",
        "final_data = (oversampled_data.groupby('target')\n",
        "                            .apply(lambda x: x.sample(n=10000, random_state=42))\n",
        "                            .reset_index(drop=True)\n",
        "                            .sample(frac=1, random_state=42))  # Shuffle data\n",
        "\n",
        "# Split into features and target\n",
        "X_final = final_data.drop(columns='target')\n",
        "y_final = final_data['target']\n",
        "\n",
        "# Verify the distribution\n",
        "print(\"Final class distribution:\")\n",
        "print(y_final.value_counts())"
      ]
    },
    {
      "cell_type": "code",
      "execution_count": null,
      "id": "eaa642a3-8df3-4085-a123-90add3187f69",
      "metadata": {
        "id": "eaa642a3-8df3-4085-a123-90add3187f69"
      },
      "outputs": [],
      "source": [
        "X_train = pd.DataFrame(X_train, columns=[f'Feature_{i}' for i in range(X_train.shape[1])])\n",
        "X_test = pd.DataFrame(X_test, columns=[f'Feature_{i}' for i in range(X_test.shape[1])])\n"
      ]
    },
    {
      "cell_type": "code",
      "execution_count": null,
      "id": "1-KB_y_xvCRw",
      "metadata": {
        "id": "1-KB_y_xvCRw"
      },
      "outputs": [],
      "source": [
        "import matplotlib.pyplot as plt\n",
        "\n",
        "# Initialize the plot\n",
        "plt.figure(figsize=(10, 6))\n",
        "\n",
        "# Plot distributions for each feature\n",
        "for column in X_train.columns:\n",
        "    plt.hist(X_train[column], bins=30, alpha=0.5, label=f'{column} (Train)', histtype='step', linewidth=2)\n",
        "    plt.hist(X_test[column], bins=30, alpha=0.5, label=f'{column} (Test)', histtype='step', linestyle='--', linewidth=2)\n",
        "\n",
        "# Add title and labels\n",
        "plt.title('Feature Distributions (Training vs Testing)', fontsize=16)\n",
        "plt.xlabel('Value', fontsize=12)\n",
        "plt.ylabel('Frequency', fontsize=12)\n",
        "\n",
        "# Add legend\n",
        "plt.legend(fontsize=8, loc='upper right', ncol=2)  # Adjust columns of legend as needed\n",
        "\n",
        "# Show plot\n",
        "plt.tight_layout()\n",
        "plt.show()\n",
        "\n",
        "\n",
        "\n"
      ]
    },
    {
      "cell_type": "markdown",
      "id": "IsK-91B_1cEX",
      "metadata": {
        "id": "IsK-91B_1cEX"
      },
      "source": [
        "# KNN"
      ]
    },
    {
      "cell_type": "code",
      "execution_count": null,
      "id": "TbWp_9SEvo2C",
      "metadata": {
        "id": "TbWp_9SEvo2C"
      },
      "outputs": [],
      "source": [
        "# Ensure consistent feature names\n",
        "X_final.columns = X_final.columns.str.lower()\n",
        "X_test.columns = X_test.columns.str.lower()\n",
        "\n",
        "results = []\n",
        "roc_data = []\n",
        "\n",
        "for k in range(2, 11):\n",
        "    knn = KNeighborsClassifier(n_neighbors=k)\n",
        "    knn.fit(X_final, y_final)\n",
        "    y_pred = knn.predict(X_test)\n",
        "    accuracy = accuracy_score(y_test, y_pred)\n",
        "    y_proba = knn.predict_proba(X_test)[:, 1]\n",
        "    fpr, tpr, thresholds = roc_curve(y_test, y_proba)  # ROC components\n",
        "    roc_auc = auc(fpr, tpr)\n",
        "\n",
        "    results.append((k, accuracy, roc_auc))\n",
        "    roc_data.append((k, fpr, tpr, roc_auc))\n"
      ]
    },
    {
      "cell_type": "code",
      "execution_count": null,
      "id": "QEU60SgRYRzQ",
      "metadata": {
        "id": "QEU60SgRYRzQ"
      },
      "outputs": [],
      "source": [
        "results"
      ]
    },
    {
      "cell_type": "code",
      "execution_count": null,
      "id": "_-5HnItrQ9xn",
      "metadata": {
        "id": "_-5HnItrQ9xn"
      },
      "outputs": [],
      "source": [
        "\n",
        "for k, accuracy, roc_auc in results:\n",
        "    print(f\"k={k}, Accuracy={ accuracy:.4f}, AUC={roc_auc:.4f}\")"
      ]
    },
    {
      "cell_type": "markdown",
      "source": [
        "#ROC CURVE OF ALL THE K VALUES FOR CSV FILES"
      ],
      "metadata": {
        "id": "9vYffNoP7Qqp"
      },
      "id": "9vYffNoP7Qqp"
    },
    {
      "cell_type": "code",
      "source": [
        "import matplotlib.pyplot as plt\n",
        "\n",
        "# Plotting all ROC curves in one graph\n",
        "plt.figure(figsize=(10, 10))\n",
        "\n",
        "for k, fpr, tpr, roc_auc in roc_data:\n",
        "    plt.plot(fpr, tpr, label=f\"k={k} (AUC = {roc_auc:.2f})\")\n",
        "\n",
        "# Add the random guessing line\n",
        "plt.plot([0, 1], [0, 1], color=\"gray\", linestyle=\"--\", label=\"Random Guess\")\n",
        "\n",
        "# Graph details\n",
        "plt.title(\"Combined ROC Curves\", fontsize=16)\n",
        "plt.xlabel(\"False Positive Rate\", fontsize=12)\n",
        "plt.ylabel(\"True Positive Rate\", fontsize=12)\n",
        "plt.legend(loc=\"lower right\", fontsize=10)\n",
        "plt.grid(True)\n",
        "plt.tight_layout()\n",
        "plt.show()"
      ],
      "metadata": {
        "id": "H6eEbC8P702X"
      },
      "id": "H6eEbC8P702X",
      "execution_count": null,
      "outputs": []
    },
    {
      "cell_type": "markdown",
      "source": [
        "#ROC CURVE FOR OVERSAMPLING OF THE BEST K VALUE FOR CSV FILES"
      ],
      "metadata": {
        "id": "84SZYvA379GB"
      },
      "id": "84SZYvA379GB"
    },
    {
      "cell_type": "code",
      "execution_count": null,
      "id": "72Fw1KkuSC1z",
      "metadata": {
        "id": "72Fw1KkuSC1z"
      },
      "outputs": [],
      "source": [
        "from sklearn.neighbors import KNeighborsClassifier\n",
        "from sklearn.model_selection import train_test_split\n",
        "from sklearn.metrics import roc_curve, auc, classification_report, confusion_matrix\n",
        "from imblearn.over_sampling import SMOTE\n",
        "import matplotlib.pyplot as plt\n",
        "import seaborn as sns\n",
        "\n",
        "Splitting the data into training and testing sets\n",
        "X_train, X_test, y_train, y_test = train_test_split(X, y, test_size=0.2, random_state=42, stratify=y)\n",
        "\n",
        "# Applying SMOTE for oversampling\n",
        "smote = SMOTE(random_state=42)\n",
        "X_train_smote, y_train_smote = smote.fit_resample(X_train, y_train)\n",
        "\n",
        "# Initialize variables to store the best model and metrics\n",
        "best_k = None\n",
        "best_auc = 0\n",
        "roc_data = []\n",
        "\n",
        "# Iterate over different values of k\n",
        "for k in range(2, 11):\n",
        "    # Train KNN model\n",
        "    knn = KNeighborsClassifier(n_neighbors=k)\n",
        "    knn.fit(X_train_smote, y_train_smote)\n",
        "\n",
        "    # Predict probabilities and calculate ROC curve\n",
        "    y_proba = knn.predict_proba(X_test)[:, 1]\n",
        "    fpr, tpr, thresholds = roc_curve(y_test, y_proba)\n",
        "    roc_auc = auc(fpr, tpr)\n",
        "    roc_data.append((k, fpr, tpr, roc_auc))\n",
        "\n",
        "    # Update the best model if the current AUC is better\n",
        "    if roc_auc > best_auc:\n",
        "        best_k = k\n",
        "        best_auc = roc_auc\n",
        "        best_model = knn\n",
        "\n",
        "# Plot ROC curves for all k values\n",
        "plt.figure(figsize=(10, 8))\n",
        "for k, fpr, tpr, roc_auc in roc_data:\n",
        "    plt.plot(fpr, tpr, label=f'k={k} (AUC={roc_auc:.2f})')\n",
        "\n",
        "plt.plot([0, 1], [0, 1], linestyle='--', color='gray', label='Random Guess')\n",
        "plt.title('ROC Curves for KNN with SMOTE Oversampling', fontsize=16)\n",
        "plt.xlabel('False Positive Rate', fontsize=12)\n",
        "plt.ylabel('True Positive Rate', fontsize=12)\n",
        "plt.legend(loc='lower right')\n",
        "plt.grid()\n",
        "plt.show()\n",
        "\n",
        "# Evaluate the best model\n",
        "y_pred = best_model.predict(X_test)\n",
        "cm = confusion_matrix(y_test, y_pred)\n",
        "\n",
        "# Plot confusion matrix\n",
        "plt.figure(figsize=(8, 6))\n",
        "sns.heatmap(cm, annot=True, fmt='d', cmap='Blues',\n",
        "            xticklabels=['No Cancer', 'Cancer'],\n",
        "            yticklabels=['No Cancer', 'Cancer'])\n",
        "plt.title(f'Confusion Matrix (Best k={best_k})', fontsize=16)\n",
        "plt.xlabel('Predicted Label', fontsize=12)\n",
        "plt.ylabel('True Label', fontsize=12)\n",
        "plt.show()\n",
        "\n",
        "# Print classification report\n",
        "print(f\"Classification Report for Best k={best_k}:\\n\")\n",
        "print(classification_report(y_test, y_pred))\n",
        "\n",
        "\n",
        "\n",
        "# # Assuming roc_data contains tuples of (k, fpr, tpr, roc_auc)\n",
        "# # and best_k is already identified\n",
        "# best_k_data = [(k, fpr, tpr, roc_auc) for k, fpr, tpr, roc_auc in roc_data if k == best_k]\n",
        "\n",
        "# # Extract the best k data\n",
        "# if best_k_data:\n",
        "#     _, best_fpr, best_tpr, best_auc = best_k_data[0]\n",
        "\n",
        "#     # Plot the ROC curve for the best k\n",
        "#     plt.figure(figsize=(8, 6))\n",
        "#     plt.plot(best_fpr, best_tpr, color='blue', label=f'ROC Curve (k={best_k}, AUC={best_auc:.2f})')\n",
        "#     plt.plot([0, 1], [0, 1], color='gray', linestyle='--', label='Random Guess')\n",
        "#     plt.title(f'ROC Curve for Best k={best_k}', fontsize=16)\n",
        "#     plt.xlabel('False Positive Rate', fontsize=12)\n",
        "#     plt.ylabel('True Positive Rate', fontsize=12)\n",
        "#     plt.legend(loc='lower right')\n",
        "#     plt.grid()\n",
        "#     plt.show()\n",
        "# else:\n",
        "#     print(\"Best k data not found in roc_data.\")\n",
        "\n",
        "\n"
      ]
    },
    {
      "cell_type": "markdown",
      "source": [
        "#ROC CURVE FOR UNDERSAMPLING OF THE BEST K VALUE FOR CSV FILES"
      ],
      "metadata": {
        "id": "dVNp0Zdy8ei7"
      },
      "id": "dVNp0Zdy8ei7"
    },
    {
      "cell_type": "code",
      "source": [
        "from sklearn.neighbors import KNeighborsClassifier\n",
        "from sklearn.metrics import roc_curve, auc, classification_report, confusion_matrix\n",
        "from imblearn.under_sampling import RandomUnderSampler\n",
        "import matplotlib.pyplot as plt\n",
        "import seaborn as sns\n",
        "\n",
        "# Apply Random Undersampling\n",
        "undersampler = RandomUnderSampler(random_state=42)\n",
        "X_resampled, y_resampled = undersampler.fit_resample(X_train, y_train)\n",
        "\n",
        "# Evaluate KNN for different values of k with undersampling\n",
        "results = []\n",
        "roc_data = []\n",
        "\n",
        "for k in range(2, 11):\n",
        "    knn = KNeighborsClassifier(n_neighbors=k)\n",
        "    knn.fit(X_resampled, y_resampled)\n",
        "    y_pred = knn.predict(X_test)\n",
        "    y_proba = knn.predict_proba(X_test)[:, 1]  # Probability for the positive class\n",
        "\n",
        "    # Calculate ROC curve and AUC\n",
        "    fpr, tpr, thresholds = roc_curve(y_test, y_proba)\n",
        "    roc_auc = auc(fpr, tpr)\n",
        "\n",
        "    results.append((k, roc_auc))\n",
        "    roc_data.append((k, fpr, tpr, roc_auc))\n",
        "\n",
        "# Find the best k based on AUC\n",
        "best_k, best_auc = max(results, key=lambda x: x[1])\n",
        "print(f\"Best n_neighbors: {best_k} with AUC: {best_auc:.4f}\")\n",
        "\n",
        "# Confusion matrix and classification report for the best model\n",
        "best_knn = KNeighborsClassifier(n_neighbors=best_k)\n",
        "best_knn.fit(X_resampled, y_resampled)\n",
        "y_pred = best_knn.predict(X_test)\n",
        "\n",
        "cm = confusion_matrix(y_test, y_pred)\n",
        "print(\"\\nConfusion Matrix:\")\n",
        "print(cm)\n",
        "\n",
        "print(\"\\nClassification Report:\")\n",
        "print(classification_report(y_test, y_pred))\n",
        "\n",
        "# Plot ROC curve for the best model\n",
        "for k, fpr, tpr, roc_auc in roc_data:\n",
        "    if k == best_k:\n",
        "        plt.figure(figsize=(8, 6))\n",
        "        plt.plot(fpr, tpr, color='blue', label=f'ROC Curve (AUC = {roc_auc:.4f})')\n",
        "        plt.plot([0, 1], [0, 1], color='gray', linestyle='--', label='Random Guess')\n",
        "        plt.title(f'ROC Curve (Best n_neighbors={best_k})', fontsize=16)\n",
        "        plt.xlabel('False Positive Rate', fontsize=12)\n",
        "        plt.ylabel('True Positive Rate', fontsize=12)\n",
        "        plt.legend(fontsize=10)\n",
        "        plt.grid()\n",
        "        plt.show()\n",
        "\n",
        "# import matplotlib.pyplot as plt\n",
        "\n",
        "# # Assuming roc_data is a list of tuples: (k, fpr, tpr, roc_auc)\n",
        "# # and best_k is already identified\n",
        "# best_k_data = [(k, fpr, tpr, roc_auc) for k, fpr, tpr, roc_auc in roc_data if k == best_k]\n",
        "\n",
        "# # Extract the data for the best k\n",
        "# if best_k_data:\n",
        "#     _, best_fpr, best_tpr, best_auc = best_k_data[0]\n",
        "\n",
        "#     # Plot the ROC curve for the best k\n",
        "#     plt.figure(figsize=(8, 6))\n",
        "#     plt.plot(best_fpr, best_tpr, color='blue', label=f'ROC Curve (k={best_k}, AUC={best_auc:.4f})')\n",
        "#     plt.plot([0, 1], [0, 1], color='gray', linestyle='--', label='Random Guess')\n",
        "#     plt.title(f'ROC Curve for Best n_neighbors={best_k}', fontsize=16)\n",
        "#     plt.xlabel('False Positive Rate', fontsize=12)\n",
        "#     plt.ylabel('True Positive Rate', fontsize=12)\n",
        "#     plt.legend(loc='lower right', fontsize=10)\n",
        "#     plt.grid()\n",
        "#     plt.show()\n",
        "# else:\n",
        "#     print(\"Best k data not found in roc_data.\")\n"
      ],
      "metadata": {
        "id": "RJgeUHMW8iln"
      },
      "id": "RJgeUHMW8iln",
      "execution_count": null,
      "outputs": []
    },
    {
      "cell_type": "code",
      "execution_count": null,
      "id": "lh8NlghtiZIk",
      "metadata": {
        "id": "lh8NlghtiZIk"
      },
      "outputs": [],
      "source": [
        "\n",
        "from sklearn.neighbors import KNeighborsClassifier\n",
        "from sklearn.metrics import confusion_matrix, classification_report\n",
        "import seaborn as sns\n",
        "import matplotlib.pyplot as plt\n",
        "\n",
        "best_k = None\n",
        "best_accuracy = 0\n",
        "best_model = None\n",
        "best_y_pred = None\n",
        "# Ensure consistent feature names\n",
        "X_train.columns = X_train.columns.str.lower()\n",
        "X_test.columns = X_test.columns.str.lower()\n",
        "\n",
        "if accuracy > best_accuracy:\n",
        "        best_k = k\n",
        "        best_accuracy = accuracy\n",
        "        best_model = knn\n",
        "        best_y_pred = y_pred\n",
        "\n",
        "# Print the best k\n",
        "print(f\"\\nBest n_neighbors: {best_k} with accuracy: {best_accuracy:.4f}\")\n",
        "\n",
        "# Confusion matrix for the best model\n",
        "cm = confusion_matrix(y_test, best_y_pred)\n",
        "\n",
        "# Visualize the confusion matrix\n",
        "plt.figure(figsize=(8, 6))\n",
        "sns.heatmap(cm, annot=True, fmt='d', cmap='Blues',\n",
        "            xticklabels=['No Cancer', 'Cancer'],\n",
        "            yticklabels=['No Cancer', 'Cancer'])\n",
        "plt.title(f'Confusion Matrix (Best n_neighbors={best_k})')\n",
        "plt.ylabel('True Label')\n",
        "plt.xlabel('Predicted Label')\n",
        "plt.show()\n",
        "\n",
        "# Print classification report for the best model\n",
        "print(f\"\\nClassification Report for Best n_neighbors={best_k}:\\n\")\n",
        "print(classification_report(y_test, best_y_pred))\n",
        "\n"
      ]
    },
    {
      "cell_type": "markdown",
      "id": "7LBw7qmHRNz-",
      "metadata": {
        "id": "7LBw7qmHRNz-"
      },
      "source": [
        "#----------------END WITH CSV-----------------------\n",
        "\n",
        "\n",
        "\n"
      ]
    },
    {
      "cell_type": "markdown",
      "id": "Y0P-CUu2UOrC",
      "metadata": {
        "id": "Y0P-CUu2UOrC"
      },
      "source": [
        "-------------------START WITH IMAGES-----------------"
      ]
    },
    {
      "cell_type": "code",
      "execution_count": null,
      "id": "89V-mQIXKXbL",
      "metadata": {
        "id": "89V-mQIXKXbL"
      },
      "outputs": [],
      "source": [
        "from google.colab import files\n",
        "files.upload()\n"
      ]
    },
    {
      "cell_type": "code",
      "execution_count": null,
      "id": "6CCgXI8aKdZp",
      "metadata": {
        "id": "6CCgXI8aKdZp"
      },
      "outputs": [],
      "source": [
        "import os\n",
        "\n",
        "# Create the .kaggle directory\n",
        "os.makedirs('/root/.kaggle', exist_ok=True)\n",
        "\n",
        "# Move kaggle.json to the correct directory\n",
        "!mv kaggle.json /root/.kaggle/\n",
        "\n",
        "# Set the correct permissions\n",
        "!chmod 600 /root/.kaggle/kaggle.json\n"
      ]
    },
    {
      "cell_type": "code",
      "execution_count": null,
      "id": "tPQ75oRHKloo",
      "metadata": {
        "id": "tPQ75oRHKloo"
      },
      "outputs": [],
      "source": [
        "%cd '/content/extracted_data/data'"
      ]
    },
    {
      "cell_type": "code",
      "execution_count": null,
      "id": "Kg1gJSb5LUyq",
      "metadata": {
        "id": "Kg1gJSb5LUyq"
      },
      "outputs": [],
      "source": [
        "!kaggle competitions download -c isic-2024-challenge"
      ]
    },
    {
      "cell_type": "code",
      "execution_count": null,
      "id": "1wPwrdIxMrJc",
      "metadata": {
        "id": "1wPwrdIxMrJc"
      },
      "outputs": [],
      "source": [
        "!unzip \"/content/extracted_data/data/isic-2024-challenge.zip\""
      ]
    },
    {
      "cell_type": "code",
      "execution_count": null,
      "id": "LUorUTnlMvQt",
      "metadata": {
        "id": "LUorUTnlMvQt"
      },
      "outputs": [],
      "source": [
        "!rm \"/content/extracted_data/data/isic-2024-challenge.zip\""
      ]
    },
    {
      "cell_type": "code",
      "execution_count": null,
      "id": "7N-Pf8ZAIM7t",
      "metadata": {
        "id": "7N-Pf8ZAIM7t"
      },
      "outputs": [],
      "source": [
        "import numpy as np\n",
        "import pandas as pd\n",
        "import seaborn as sns\n",
        "import matplotlib.pyplot as plt\n",
        "import matplotlib.image as mpimg\n",
        "from PIL import Image\n",
        "from sklearn.model_selection import train_test_split, cross_val_score\n",
        "from sklearn.metrics import classification_report, accuracy_score, confusion_matrix, roc_curve, auc\n",
        "from sklearn.preprocessing import LabelEncoder, StandardScaler\n",
        "from sklearn.decomposition import PCA\n",
        "from imblearn.over_sampling import SMOTE\n",
        "import os\n",
        "from tqdm import tqdm\n",
        "\n",
        "df = pd.read_csv(\"/content/extracted_data/data/train-metadata.csv\", low_memory=False)\n",
        "df = df.sample(frac=1, random_state=42).reset_index(drop=True)\n",
        "\n",
        "print(df.head)\n",
        "benign = df[df['target'] == 0]\n",
        "malignant  = df[df['target'] == 1]\n",
        "\n",
        "benign_sampled = benign.sample(n=3000, random_state=42)\n",
        "subset_df = pd.concat([benign_sampled, malignant ])\n",
        "\n",
        "print(f\"Class 0 samples: {len(benign_sampled)}\")\n",
        "print(f\"Class 1 samples: {len(malignant )}\")\n",
        "print(f\"Total samples: {len(subset_df)}\")\n",
        "\n",
        "missing_percentages = (subset_df.isnull().sum() / len(subset_df)) * 100\n",
        "columns_to_keep = missing_percentages[missing_percentages < 50].index\n",
        "skin_cancer_df = subset_df[columns_to_keep]\n",
        "\n",
        "features_to_drop = [\n",
        "    'iddx_full',\n",
        "    'iddx_1',\n",
        "    'iddx_2',\n",
        "    'iddx_3',\n",
        "    'iddx_4',\n",
        "    'iddx_5',\n",
        "    'patient_id',\n",
        "    'lesion_id',\n",
        "    'attribution',\n",
        "    'copyright_license'\n",
        "]\n",
        "\n",
        "# We do this because depending on the seed and shuffle, the columns that get dropped will be different!\n",
        "for col in features_to_drop:\n",
        "    if col in skin_cancer_df.columns:\n",
        "        print(f\"Dropping column: {col}\")\n",
        "        skin_cancer_df = skin_cancer_df.drop(columns=[col])\n",
        "\n",
        "numeric_columns = skin_cancer_df.select_dtypes(include=['int64', 'float64']).columns\n",
        "categorical_columns = skin_cancer_df.select_dtypes(include=['object', 'category']).columns\n",
        "\n",
        "skin_cancer_df[numeric_columns] = skin_cancer_df[numeric_columns].fillna(\n",
        "    skin_cancer_df[numeric_columns].median())\n",
        "skin_cancer_df[categorical_columns] = skin_cancer_df[categorical_columns].fillna(\n",
        "    skin_cancer_df[categorical_columns].mode().iloc[0])\n",
        "\n",
        "for col in categorical_columns:\n",
        "    if col != 'isic_id':\n",
        "        le = LabelEncoder()\n",
        "        skin_cancer_df[col] = le.fit_transform(skin_cancer_df[col])\n",
        "\n",
        "expected_samples = len(skin_cancer_df)\n",
        "image_features = np.zeros((expected_samples, 128 * 128 * 3))\n",
        "valid_indices = []\n",
        "\n",
        "for idx, isic_id in tqdm(enumerate(skin_cancer_df['isic_id']), total=expected_samples):\n",
        "    try:\n",
        "        file_path = os.path.join(\"/content/extracted_data/data/train-image/image\", f\"{isic_id}.jpg\")\n",
        "        if os.path.exists(file_path):\n",
        "            img = mpimg.imread(file_path)\n",
        "            img_resized = np.array(Image.fromarray(img).resize((128, 128)))\n",
        "            image_features[idx] = img_resized.reshape(-1)\n",
        "            valid_indices.append(idx)\n",
        "    except Exception as e:\n",
        "        print(f\"Error processing {isic_id}: {str(e)}\")\n",
        "        continue\n",
        "\n",
        "if not valid_indices:\n",
        "    raise ValueError(\"No valid images were processed\")\n",
        "\n",
        "image_features = image_features[valid_indices]\n",
        "\n",
        "image_features_scaled = image_features / 255.0\n",
        "n_components = 150\n",
        "pca = PCA(n_components=n_components, random_state=42)\n",
        "image_features_pca = pca.fit_transform(image_features_scaled)\n",
        "\n",
        "pca_columns = [f'pca_{i}' for i in range(n_components)]\n",
        "image_df = pd.DataFrame(image_features_pca, columns=pca_columns)\n",
        "\n",
        "explained_variance = np.cumsum(pca.explained_variance_ratio_)\n",
        "print(f\"\\nVariance explained by {n_components} components: {explained_variance[-1]}\")\n",
        "\n",
        "X = pd.concat([\n",
        "    skin_cancer_df.drop(['isic_id', 'target'], axis=1).reset_index(drop=True),\n",
        "    image_df\n",
        "], axis=1)\n",
        "y = skin_cancer_df['target'].reset_index(drop=True)\n",
        "\n",
        "X_train, X_test, y_train, y_test = train_test_split(X, y, test_size=0.2, random_state=42, stratify=y)"
      ]
    },
    {
      "cell_type": "code",
      "execution_count": null,
      "id": "1t8p79hJoVs9",
      "metadata": {
        "id": "1t8p79hJoVs9"
      },
      "outputs": [],
      "source": [
        "train_score = {}\n",
        "test_score = {}\n",
        "n_neighbors = np.arange(2, 10, 1)\n",
        "for neighbor in n_neighbors:\n",
        "    knn = KNeighborsClassifier(n_neighbors=neighbor)\n",
        "    knn.fit(X_train, y_train)\n",
        "    train_score[neighbor]=knn.score(X_train, y_train)\n",
        "    test_score[neighbor]=knn.score(X_test, y_test)"
      ]
    },
    {
      "cell_type": "code",
      "execution_count": null,
      "id": "oMsReL1qoeo_",
      "metadata": {
        "id": "oMsReL1qoeo_"
      },
      "outputs": [],
      "source": [
        "plt.plot(n_neighbors, train_score.values(), label=\"Train Accuracy\")\n",
        "plt.plot(n_neighbors, test_score.values(), label=\"Test Accuracy\")\n",
        "plt.xlabel(\"Number Of Neighbors\")\n",
        "plt.ylabel(\"Accuracy\")\n",
        "plt.title(\"KNN: Varying number of Neighbors\")\n",
        "plt.legend()\n",
        "plt.xlim(0, 33)\n",
        "plt.ylim(0.60, 0.90)\n",
        "plt.grid()\n",
        "plt.show()"
      ]
    },
    {
      "cell_type": "code",
      "execution_count": null,
      "id": "js5zBLkWNbRm",
      "metadata": {
        "id": "js5zBLkWNbRm"
      },
      "outputs": [],
      "source": [
        "results = []\n",
        "roc_data = []\n",
        "for k in range(2, 11):\n",
        "    knn = KNeighborsClassifier(n_neighbors=k)\n",
        "    knn.fit(X_train, y_train)\n",
        "    y_pred = knn.predict(X_test)\n",
        "    accuracy = accuracy_score(y_test, y_pred)\n",
        "    y_proba = knn.predict_proba(X_test)[:, 1]\n",
        "    fpr, tpr, thresholds = roc_curve(y_test, y_proba)  # ROC components\n",
        "    roc_auc = auc(fpr, tpr)\n",
        "\n",
        "    results.append((k, accuracy, roc_auc))\n",
        "    roc_data.append((k, fpr, tpr, roc_auc))"
      ]
    },
    {
      "cell_type": "code",
      "execution_count": null,
      "id": "U9SqUgazOp1F",
      "metadata": {
        "id": "U9SqUgazOp1F"
      },
      "outputs": [],
      "source": [
        "for k, accuracy, roc_auc in results:\n",
        "    print(f\"k={k}, AUC={roc_auc:.4f}, Accuracy={accuracy:.4f}\")"
      ]
    },
    {
      "cell_type": "code",
      "source": [],
      "metadata": {
        "id": "uWK6KZTNzMTm"
      },
      "id": "uWK6KZTNzMTm",
      "execution_count": null,
      "outputs": []
    },
    {
      "cell_type": "markdown",
      "source": [
        "#ROC CURVE OF ALL THE K VALUES FOR IMAGE DATA"
      ],
      "metadata": {
        "id": "524xRCem8IBk"
      },
      "id": "524xRCem8IBk"
    },
    {
      "cell_type": "code",
      "execution_count": null,
      "id": "5rkHpvBdRXYA",
      "metadata": {
        "id": "5rkHpvBdRXYA"
      },
      "outputs": [],
      "source": [
        "import matplotlib.pyplot as plt\n",
        "\n",
        "# Plotting all ROC curves in one graph\n",
        "plt.figure(figsize=(10, 10))\n",
        "\n",
        "for k, fpr, tpr, roc_auc in roc_data:\n",
        "    plt.plot(fpr, tpr, label=f\"k={k} (AUC = {roc_auc:.2f})\")\n",
        "\n",
        "# Add the random guessing line\n",
        "plt.plot([0, 1], [0, 1], color=\"gray\", linestyle=\"--\", label=\"Random Guess\")\n",
        "\n",
        "# Graph details\n",
        "plt.title(\"Combined ROC Curves\", fontsize=16)\n",
        "plt.xlabel(\"False Positive Rate\", fontsize=12)\n",
        "plt.ylabel(\"True Positive Rate\", fontsize=12)\n",
        "plt.legend(loc=\"lower right\", fontsize=10)\n",
        "plt.grid(True)\n",
        "plt.tight_layout()\n",
        "plt.show()\n",
        "\n",
        "\n",
        "\n"
      ]
    },
    {
      "cell_type": "code",
      "source": [],
      "metadata": {
        "id": "7OU2NiTx7bgr"
      },
      "id": "7OU2NiTx7bgr",
      "execution_count": null,
      "outputs": []
    },
    {
      "cell_type": "markdown",
      "source": [
        "#ROC CURVE FOR OVERSAMPLING OF THE BEST K VALUE FOR IMAGE DATA"
      ],
      "metadata": {
        "id": "p_cimmNK8R55"
      },
      "id": "p_cimmNK8R55"
    },
    {
      "cell_type": "code",
      "source": [
        "from sklearn.neighbors import KNeighborsClassifier\n",
        "from sklearn.model_selection import train_test_split\n",
        "from sklearn.metrics import roc_curve, auc, classification_report, confusion_matrix\n",
        "from imblearn.over_sampling import SMOTE\n",
        "import matplotlib.pyplot as plt\n",
        "import seaborn as sns\n",
        "\n",
        "# Splitting the data into training and testing sets\n",
        "X_train, X_test, y_train, y_test = train_test_split(X, y, test_size=0.2, random_state=42, stratify=y)\n",
        "\n",
        "# Applying SMOTE for oversampling\n",
        "smote = SMOTE(random_state=42)\n",
        "X_train_smote, y_train_smote = smote.fit_resample(X_train, y_train)\n",
        "\n",
        "# Initialize variables to store the best model and metrics\n",
        "best_k = None\n",
        "best_auc = 0\n",
        "roc_data = []\n",
        "\n",
        "# Iterate over different values of k\n",
        "for k in range(2, 11):\n",
        "    # Train KNN model\n",
        "    knn = KNeighborsClassifier(n_neighbors=k)\n",
        "    knn.fit(X_train_smote, y_train_smote)\n",
        "\n",
        "    # Predict probabilities and calculate ROC curve\n",
        "    y_proba = knn.predict_proba(X_test)[:, 1]\n",
        "    fpr, tpr, thresholds = roc_curve(y_test, y_proba)\n",
        "    roc_auc = auc(fpr, tpr)\n",
        "    roc_data.append((k, fpr, tpr, roc_auc))\n",
        "\n",
        "    # Update the best model if the current AUC is better\n",
        "    if roc_auc > best_auc:\n",
        "        best_k = k\n",
        "        best_auc = roc_auc\n",
        "        best_model = knn\n",
        "\n",
        "# Plot ROC curves for all k values\n",
        "plt.figure(figsize=(10, 8))\n",
        "for k, fpr, tpr, roc_auc in roc_data:\n",
        "    plt.plot(fpr, tpr, label=f'k={k} (AUC={roc_auc:.2f})')\n",
        "\n",
        "plt.plot([0, 1], [0, 1], linestyle='--', color='gray', label='Random Guess')\n",
        "plt.title('ROC Curves for KNN with SMOTE Oversampling', fontsize=16)\n",
        "plt.xlabel('False Positive Rate', fontsize=12)\n",
        "plt.ylabel('True Positive Rate', fontsize=12)\n",
        "plt.legend(loc='lower right')\n",
        "plt.grid()\n",
        "plt.show()\n",
        "\n",
        "# Evaluate the best model\n",
        "y_pred = best_model.predict(X_test)\n",
        "cm = confusion_matrix(y_test, y_pred)\n",
        "\n",
        "# Plot confusion matrix\n",
        "plt.figure(figsize=(8, 6))\n",
        "sns.heatmap(cm, annot=True, fmt='d', cmap='Blues',\n",
        "            xticklabels=['No Cancer', 'Cancer'],\n",
        "            yticklabels=['No Cancer', 'Cancer'])\n",
        "plt.title(f'Confusion Matrix (Best k={best_k})', fontsize=16)\n",
        "plt.xlabel('Predicted Label', fontsize=12)\n",
        "plt.ylabel('True Label', fontsize=12)\n",
        "plt.show()\n",
        "\n",
        "# Print classification report\n",
        "print(f\"Classification Report for Best k={best_k}:\\n\")\n",
        "print(classification_report(y_test, y_pred))\n",
        "\n",
        "\n"
      ],
      "metadata": {
        "id": "SfIbSvGE8Vz4"
      },
      "id": "SfIbSvGE8Vz4",
      "execution_count": null,
      "outputs": []
    },
    {
      "cell_type": "markdown",
      "source": [
        "#ROC CURVE FOR UNDERSAMPLING OF THE BEST K VALUE FOR IMAGE DATA"
      ],
      "metadata": {
        "id": "pmQLHvZb7fkO"
      },
      "id": "pmQLHvZb7fkO"
    },
    {
      "cell_type": "code",
      "source": [
        "from sklearn.neighbors import KNeighborsClassifier\n",
        "from sklearn.metrics import roc_curve, auc, classification_report, confusion_matrix\n",
        "from imblearn.under_sampling import RandomUnderSampler\n",
        "import matplotlib.pyplot as plt\n",
        "import seaborn as sns\n",
        "\n",
        "# Apply Random Undersampling\n",
        "undersampler = RandomUnderSampler(random_state=42)\n",
        "X_resampled, y_resampled = undersampler.fit_resample(X_train, y_train)\n",
        "\n",
        "# Evaluate KNN for different values of k with undersampling\n",
        "results = []\n",
        "roc_data = []\n",
        "\n",
        "for k in range(2, 11):\n",
        "    knn = KNeighborsClassifier(n_neighbors=k)\n",
        "    knn.fit(X_resampled, y_resampled)\n",
        "    y_pred = knn.predict(X_test)\n",
        "    y_proba = knn.predict_proba(X_test)[:, 1]  # Probability for the positive class\n",
        "\n",
        "    # Calculate ROC curve and AUC\n",
        "    fpr, tpr, thresholds = roc_curve(y_test, y_proba)\n",
        "    roc_auc = auc(fpr, tpr)\n",
        "\n",
        "    results.append((k, roc_auc))\n",
        "    roc_data.append((k, fpr, tpr, roc_auc))\n",
        "\n",
        "# Find the best k based on AUC\n",
        "best_k, best_auc = max(results, key=lambda x: x[1])\n",
        "print(f\"Best n_neighbors: {best_k} with AUC: {best_auc:.4f}\")\n",
        "\n",
        "# Confusion matrix and classification report for the best model\n",
        "best_knn = KNeighborsClassifier(n_neighbors=best_k)\n",
        "best_knn.fit(X_resampled, y_resampled)\n",
        "y_pred = best_knn.predict(X_test)\n",
        "\n",
        "cm = confusion_matrix(y_test, y_pred)\n",
        "print(\"\\nConfusion Matrix:\")\n",
        "print(cm)\n",
        "\n",
        "print(\"\\nClassification Report:\")\n",
        "print(classification_report(y_test, y_pred))\n",
        "\n",
        "# Plot ROC curve for the best model\n",
        "for k, fpr, tpr, roc_auc in roc_data:\n",
        "    if k == best_k:\n",
        "        plt.figure(figsize=(8, 6))\n",
        "        plt.plot(fpr, tpr, color='blue', label=f'ROC Curve (AUC = {roc_auc:.4f})')\n",
        "        plt.plot([0, 1], [0, 1], color='gray', linestyle='--', label='Random Guess')\n",
        "        plt.title(f'ROC Curve (Best n_neighbors={best_k})', fontsize=16)\n",
        "        plt.xlabel('False Positive Rate', fontsize=12)\n",
        "        plt.ylabel('True Positive Rate', fontsize=12)\n",
        "        plt.legend(fontsize=10)\n",
        "        plt.grid()\n",
        "        plt.show()"
      ],
      "metadata": {
        "id": "J7sX9YIK7nUv"
      },
      "id": "J7sX9YIK7nUv",
      "execution_count": null,
      "outputs": []
    },
    {
      "cell_type": "code",
      "source": [
        "from sklearn.neighbors import KNeighborsClassifier\n",
        "from sklearn.metrics import confusion_matrix, classification_report\n",
        "import seaborn as sns\n",
        "import matplotlib.pyplot as plt\n",
        "\n",
        "best_k = None\n",
        "best_accuracy = 0\n",
        "best_model = None\n",
        "best_y_pred = None\n",
        "# Ensure consistent feature names\n",
        "X_train.columns = X_train.columns.str.lower()\n",
        "X_test.columns = X_test.columns.str.lower()\n",
        "\n",
        "if accuracy > best_accuracy:\n",
        "        best_k = k\n",
        "        best_accuracy = accuracy\n",
        "        best_model = knn\n",
        "        best_y_pred = y_pred\n",
        "\n",
        "# Print the best k\n",
        "print(f\"\\nBest n_neighbors: {best_k} with accuracy: {best_accuracy:.4f}\")\n",
        "\n",
        "# Confusion matrix for the best model\n",
        "cm = confusion_matrix(y_test, best_y_pred)\n",
        "\n",
        "# Visualize the confusion matrix\n",
        "plt.figure(figsize=(8, 6))\n",
        "sns.heatmap(cm, annot=True, fmt='d', cmap='Blues',\n",
        "            xticklabels=['No Cancer', 'Cancer'],\n",
        "            yticklabels=['No Cancer', 'Cancer'])\n",
        "plt.title(f'Confusion Matrix (Best n_neighbors={best_k})')\n",
        "plt.ylabel('True Label')\n",
        "plt.xlabel('Predicted Label')\n",
        "plt.show()\n",
        "\n",
        "# Print classification report for the best model\n",
        "print(f\"\\nClassification Report for Best n_neighbors={best_k}:\\n\")\n",
        "print(classification_report(y_test, best_y_pred))"
      ],
      "metadata": {
        "id": "3ApOirR6UhC6"
      },
      "id": "3ApOirR6UhC6",
      "execution_count": null,
      "outputs": []
    },
    {
      "cell_type": "code",
      "source": [],
      "metadata": {
        "id": "sZtg-s6CXrfp"
      },
      "id": "sZtg-s6CXrfp",
      "execution_count": null,
      "outputs": []
    }
  ],
  "metadata": {
    "accelerator": "GPU",
    "colab": {
      "gpuType": "T4",
      "provenance": [],
      "include_colab_link": true
    },
    "kernelspec": {
      "display_name": "Python 3 (ipykernel)",
      "language": "python",
      "name": "python3"
    },
    "language_info": {
      "codemirror_mode": {
        "name": "ipython",
        "version": 3
      },
      "file_extension": ".py",
      "mimetype": "text/x-python",
      "name": "python",
      "nbconvert_exporter": "python",
      "pygments_lexer": "ipython3",
      "version": "3.12.4"
    }
  },
  "nbformat": 4,
  "nbformat_minor": 5
}