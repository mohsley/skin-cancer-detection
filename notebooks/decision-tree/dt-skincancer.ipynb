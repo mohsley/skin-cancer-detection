{
 "cells": [
  {
   "cell_type": "markdown",
   "id": "7487f7dc-00e6-4d7b-9ba1-f6556da749ad",
   "metadata": {},
   "source": [
    "# Decision Tree Calssifier:"
   ]
  },
  {
   "cell_type": "code",
   "execution_count": 4,
   "id": "ac42da2b-e725-43b9-80eb-747f07d6c65a",
   "metadata": {},
   "outputs": [],
   "source": [
    "#imports\n",
    "import numpy as np\n",
    "import pandas as pd\n",
    "from sklearn.tree import DecisionTreeClassifier"
   ]
  },
  {
   "cell_type": "code",
   "execution_count": 5,
   "id": "82938d8b-1a49-4006-a725-d30d441a7fd2",
   "metadata": {},
   "outputs": [
    {
     "name": "stderr",
     "output_type": "stream",
     "text": [
      "/var/folders/q7/0fmp_ns55qzft8fc_lhg8g100000gn/T/ipykernel_1596/629991581.py:2: DtypeWarning: Columns (51,52) have mixed types. Specify dtype option on import or set low_memory=False.\n",
      "  train_metadata = pd.read_csv('../../../isic-2024-challenge/train-metadata.csv')\n"
     ]
    }
   ],
   "source": [
    "#reading csv files from download\n",
    "train_metadata = pd.read_csv('../../../isic-2024-challenge/train-metadata.csv')\n",
    "test_metadata = pd.read_csv('../../../isic-2024-challenge/test-metadata.csv')\n",
    "# print(\"\\nTrain Metadata:\\n\", train_metadata.head())\n",
    "# print(\"\\nTest Metadata:\\n\", test_metadata.head())"
   ]
  },
  {
   "cell_type": "code",
   "execution_count": 7,
   "id": "33779987-37c2-4299-8cd2-cefdf2fe2eb3",
   "metadata": {},
   "outputs": [],
   "source": [
    "# \"skin_cancer_decisiontree\" is instantiated as an \"object\" of DecisionTreeClassifier \"class\". \n",
    "\n",
    "skin_cancer_decisiontree = DecisionTreeClassifier(criterion='entropy', max_depth=None,)"
   ]
  },
  {
   "cell_type": "code",
   "execution_count": 8,
   "id": "ddd18ffe-9ecc-45ad-8484-adf1c1cd66d6",
   "metadata": {},
   "outputs": [
    {
     "ename": "NameError",
     "evalue": "name 'X_train' is not defined",
     "output_type": "error",
     "traceback": [
      "\u001b[0;31m---------------------------------------------------------------------------\u001b[0m",
      "\u001b[0;31mNameError\u001b[0m                                 Traceback (most recent call last)",
      "Cell \u001b[0;32mIn[8], line 3\u001b[0m\n\u001b[1;32m      1\u001b[0m \u001b[38;5;66;03m#use the method \"fit\" of the objects \"my_decisiontree\" along with training dataset and labels to train the model.\u001b[39;00m\n\u001b[0;32m----> 3\u001b[0m skin_cancer_decisiontree\u001b[38;5;241m.\u001b[39mfit(X_train, y_train)\n",
      "\u001b[0;31mNameError\u001b[0m: name 'X_train' is not defined"
     ]
    }
   ],
   "source": [
    "#use the method \"fit\" of the objects \"my_decisiontree\" along with training dataset and labels to train the model.\n",
    "\n",
    "skin_cancer_decisiontree.fit(X_train, y_train)"
   ]
  },
  {
   "cell_type": "code",
   "execution_count": null,
   "id": "1594db52-db95-43ab-9a8e-4a0c61f96d70",
   "metadata": {},
   "outputs": [],
   "source": []
  },
  {
   "cell_type": "code",
   "execution_count": null,
   "id": "46bab121-15f6-48ed-8653-9fded45d0823",
   "metadata": {},
   "outputs": [],
   "source": []
  },
  {
   "cell_type": "code",
   "execution_count": null,
   "id": "e50ec567-9f04-46c1-bd50-a10081afb0b3",
   "metadata": {},
   "outputs": [],
   "source": []
  },
  {
   "cell_type": "code",
   "execution_count": null,
   "id": "993371d5-cd5b-44e7-8b60-33600111afcd",
   "metadata": {},
   "outputs": [],
   "source": []
  },
  {
   "cell_type": "code",
   "execution_count": null,
   "id": "3610fde6-5f20-47a0-a464-3e529e2a7a75",
   "metadata": {},
   "outputs": [],
   "source": []
  }
 ],
 "metadata": {
  "kernelspec": {
   "display_name": "Python 3 (ipykernel)",
   "language": "python",
   "name": "python3"
  },
  "language_info": {
   "codemirror_mode": {
    "name": "ipython",
    "version": 3
   },
   "file_extension": ".py",
   "mimetype": "text/x-python",
   "name": "python",
   "nbconvert_exporter": "python",
   "pygments_lexer": "ipython3",
   "version": "3.12.4"
  }
 },
 "nbformat": 4,
 "nbformat_minor": 5
}
